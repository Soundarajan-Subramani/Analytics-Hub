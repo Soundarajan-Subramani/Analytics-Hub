{
 "cells": [
  {
   "cell_type": "code",
   "execution_count": 1,
   "id": "6ec9822f",
   "metadata": {},
   "outputs": [],
   "source": [
    "import numpy as np\n",
    "import pandas as pd"
   ]
  },
  {
   "cell_type": "code",
   "execution_count": 2,
   "id": "8b92be81",
   "metadata": {},
   "outputs": [],
   "source": [
    "from scipy.stats import zscore\n",
    "import statsmodels.formula.api as smf"
   ]
  },
  {
   "cell_type": "code",
   "execution_count": 3,
   "id": "d2a540b7",
   "metadata": {},
   "outputs": [],
   "source": [
    "from sklearn.model_selection import GridSearchCV\n",
    "from sklearn.model_selection import train_test_split\n",
    "from sklearn.model_selection import cross_val_score\n",
    "from sklearn.model_selection import RepeatedKFold"
   ]
  },
  {
   "cell_type": "code",
   "execution_count": 4,
   "id": "72f62d4b",
   "metadata": {},
   "outputs": [],
   "source": [
    "from sklearn.tree import DecisionTreeRegressor\n",
    "from sklearn.linear_model import LinearRegression\n",
    "from sklearn.ensemble import RandomForestRegressor\n",
    "from sklearn.neural_network import MLPRegressor"
   ]
  },
  {
   "cell_type": "code",
   "execution_count": 5,
   "id": "0d39ee8f",
   "metadata": {},
   "outputs": [],
   "source": [
    "from sklearn.metrics import mean_squared_error"
   ]
  },
  {
   "cell_type": "code",
   "execution_count": 23,
   "id": "98ecdbeb",
   "metadata": {},
   "outputs": [],
   "source": [
    "import seaborn as sns\n",
    "from pylab import rcParams\n",
    "import matplotlib.pyplot as plt\n",
    "%matplotlib inline"
   ]
  },
  {
   "cell_type": "code",
   "execution_count": 7,
   "id": "cfeb7587",
   "metadata": {},
   "outputs": [],
   "source": [
    "from warnings import filterwarnings\n",
    "filterwarnings('ignore')"
   ]
  },
  {
   "cell_type": "code",
   "execution_count": 8,
   "id": "edff78fd",
   "metadata": {},
   "outputs": [
    {
     "data": {
      "text/html": [
       "<div>\n",
       "<style scoped>\n",
       "    .dataframe tbody tr th:only-of-type {\n",
       "        vertical-align: middle;\n",
       "    }\n",
       "\n",
       "    .dataframe tbody tr th {\n",
       "        vertical-align: top;\n",
       "    }\n",
       "\n",
       "    .dataframe thead th {\n",
       "        text-align: right;\n",
       "    }\n",
       "</style>\n",
       "<table border=\"1\" class=\"dataframe\">\n",
       "  <thead>\n",
       "    <tr style=\"text-align: right;\">\n",
       "      <th></th>\n",
       "      <th>Item_Identifier</th>\n",
       "      <th>Item_Weight</th>\n",
       "      <th>Item_Fat_Content</th>\n",
       "      <th>Item_Visibility</th>\n",
       "      <th>Item_Type</th>\n",
       "      <th>Item_MRP</th>\n",
       "      <th>Outlet_Identifier</th>\n",
       "      <th>Outlet_Size</th>\n",
       "      <th>Outlet_Location_Type</th>\n",
       "      <th>Outlet_Type</th>\n",
       "      <th>Item_Outlet_Sales</th>\n",
       "      <th>Outlet_Age</th>\n",
       "    </tr>\n",
       "  </thead>\n",
       "  <tbody>\n",
       "    <tr>\n",
       "      <th>0</th>\n",
       "      <td>FDA15</td>\n",
       "      <td>9.30</td>\n",
       "      <td>0</td>\n",
       "      <td>0.016047</td>\n",
       "      <td>4</td>\n",
       "      <td>249.8092</td>\n",
       "      <td>9</td>\n",
       "      <td>1</td>\n",
       "      <td>0</td>\n",
       "      <td>1</td>\n",
       "      <td>3735.1380</td>\n",
       "      <td>22</td>\n",
       "    </tr>\n",
       "    <tr>\n",
       "      <th>1</th>\n",
       "      <td>DRC01</td>\n",
       "      <td>5.92</td>\n",
       "      <td>1</td>\n",
       "      <td>0.019278</td>\n",
       "      <td>14</td>\n",
       "      <td>48.2692</td>\n",
       "      <td>3</td>\n",
       "      <td>1</td>\n",
       "      <td>2</td>\n",
       "      <td>2</td>\n",
       "      <td>443.4228</td>\n",
       "      <td>12</td>\n",
       "    </tr>\n",
       "    <tr>\n",
       "      <th>2</th>\n",
       "      <td>FDN15</td>\n",
       "      <td>17.50</td>\n",
       "      <td>0</td>\n",
       "      <td>0.016760</td>\n",
       "      <td>10</td>\n",
       "      <td>141.6180</td>\n",
       "      <td>9</td>\n",
       "      <td>1</td>\n",
       "      <td>0</td>\n",
       "      <td>1</td>\n",
       "      <td>2097.2700</td>\n",
       "      <td>22</td>\n",
       "    </tr>\n",
       "    <tr>\n",
       "      <th>3</th>\n",
       "      <td>FDX07</td>\n",
       "      <td>19.20</td>\n",
       "      <td>1</td>\n",
       "      <td>0.000000</td>\n",
       "      <td>6</td>\n",
       "      <td>182.0950</td>\n",
       "      <td>0</td>\n",
       "      <td>1</td>\n",
       "      <td>2</td>\n",
       "      <td>0</td>\n",
       "      <td>732.3800</td>\n",
       "      <td>23</td>\n",
       "    </tr>\n",
       "    <tr>\n",
       "      <th>4</th>\n",
       "      <td>NCD19</td>\n",
       "      <td>8.93</td>\n",
       "      <td>0</td>\n",
       "      <td>0.000000</td>\n",
       "      <td>9</td>\n",
       "      <td>53.8614</td>\n",
       "      <td>1</td>\n",
       "      <td>0</td>\n",
       "      <td>2</td>\n",
       "      <td>1</td>\n",
       "      <td>994.7052</td>\n",
       "      <td>34</td>\n",
       "    </tr>\n",
       "  </tbody>\n",
       "</table>\n",
       "</div>"
      ],
      "text/plain": [
       "  Item_Identifier  Item_Weight  Item_Fat_Content  Item_Visibility  Item_Type  \\\n",
       "0           FDA15         9.30                 0         0.016047          4   \n",
       "1           DRC01         5.92                 1         0.019278         14   \n",
       "2           FDN15        17.50                 0         0.016760         10   \n",
       "3           FDX07        19.20                 1         0.000000          6   \n",
       "4           NCD19         8.93                 0         0.000000          9   \n",
       "\n",
       "   Item_MRP  Outlet_Identifier  Outlet_Size  Outlet_Location_Type  \\\n",
       "0  249.8092                  9            1                     0   \n",
       "1   48.2692                  3            1                     2   \n",
       "2  141.6180                  9            1                     0   \n",
       "3  182.0950                  0            1                     2   \n",
       "4   53.8614                  1            0                     2   \n",
       "\n",
       "   Outlet_Type  Item_Outlet_Sales  Outlet_Age  \n",
       "0            1          3735.1380          22  \n",
       "1            2           443.4228          12  \n",
       "2            1          2097.2700          22  \n",
       "3            0           732.3800          23  \n",
       "4            1           994.7052          34  "
      ]
     },
     "execution_count": 8,
     "metadata": {},
     "output_type": "execute_result"
    }
   ],
   "source": [
    "df = pd.read_csv('clean_train_data.csv')\n",
    "df.head()"
   ]
  },
  {
   "cell_type": "code",
   "execution_count": 9,
   "id": "19a6c41e",
   "metadata": {},
   "outputs": [],
   "source": [
    "# dependent and independent variables\n",
    "\n",
    "x = df.drop(['Item_Identifier','Item_Outlet_Sales'], axis=1)\n",
    "y = df['Item_Outlet_Sales']"
   ]
  },
  {
   "cell_type": "code",
   "execution_count": 10,
   "id": "14e3f234",
   "metadata": {},
   "outputs": [],
   "source": [
    "# train, test splits\n",
    "x_train, x_test, y_train, y_test = train_test_split(x, y, test_size=0.3, random_state=0)"
   ]
  },
  {
   "cell_type": "code",
   "execution_count": 11,
   "id": "5e14249a",
   "metadata": {},
   "outputs": [],
   "source": [
    "# scaled versions\n",
    "\n",
    "x_train_sc = x_train.apply(zscore)\n",
    "x_test_sc = x_test.apply(zscore)"
   ]
  },
  {
   "cell_type": "markdown",
   "id": "fda4d6d0",
   "metadata": {},
   "source": [
    "### Linear Regression Model"
   ]
  },
  {
   "cell_type": "code",
   "execution_count": 12,
   "id": "fd33d800",
   "metadata": {},
   "outputs": [
    {
     "name": "stdout",
     "output_type": "stream",
     "text": [
      "Train RMSE: 1182.35\n",
      "Test RMSE : 1222.73\n"
     ]
    }
   ],
   "source": [
    "model = LinearRegression().fit(x_train, y_train)\n",
    "\n",
    "y_pred_train = model.predict(x_train)\n",
    "train_rmse = mean_squared_error(y_train, y_pred_train, squared=False)\n",
    "\n",
    "y_pred_test = model.predict(x_test)\n",
    "test_rmse = mean_squared_error(y_test, y_pred_test, squared=False)\n",
    "\n",
    "print('Train RMSE: {}'.format(round(train_rmse,2)))\n",
    "print('Test RMSE : {}'.format(round(test_rmse,2)))"
   ]
  },
  {
   "cell_type": "code",
   "execution_count": 13,
   "id": "9d38b600",
   "metadata": {},
   "outputs": [
    {
     "name": "stdout",
     "output_type": "stream",
     "text": [
      "                      Coefficient\n",
      "Item_Weight             -2.552772\n",
      "Item_Fat_Content        45.376462\n",
      "Item_Visibility      -1295.481358\n",
      "Item_Type                2.049159\n",
      "Item_MRP                15.379082\n",
      "Outlet_Identifier       62.803843\n",
      "Outlet_Size           -353.332531\n",
      "Outlet_Location_Type  -214.907653\n",
      "Outlet_Type            860.424163\n",
      "Outlet_Age              -1.572709\n"
     ]
    }
   ],
   "source": [
    "weights = model.coef_\n",
    "coeff = pd.DataFrame(weights, columns=['Coefficient'], index=x_train.columns)\n",
    "print(coeff)"
   ]
  },
  {
   "cell_type": "code",
   "execution_count": 14,
   "id": "a12e06e9",
   "metadata": {},
   "outputs": [
    {
     "data": {
      "image/png": "[encoded data removed]",
      "text/plain": [
       "<Figure size 720x504 with 1 Axes>"
      ]
     },
     "metadata": {
      "needs_background": "light"
     },
     "output_type": "display_data"
    }
   ],
   "source": [
    "plt.figure(figsize=(10,7))\n",
    "sns.barplot(x=coeff['Coefficient'], y=coeff.index)\n",
    "plt.show()"
   ]
  },
  {
   "cell_type": "markdown",
   "id": "56f89467",
   "metadata": {},
   "source": [
    "### Cross Validation"
   ]
  },
  {
   "cell_type": "code",
   "execution_count": 59,
   "id": "7276a9f0",
   "metadata": {},
   "outputs": [],
   "source": [
    "# custom function for model evaluation\n",
    "\n",
    "def evaluate_model(x,y,repeats):\n",
    "    cross_validator = RepeatedKFold(n_splits=10, n_repeats=repeats, random_state=0)\n",
    "    model = LinearRegression()\n",
    "    scores = cross_val_score(model, x, y, scoring='neg_mean_squared_error', cv=cross_validator, n_jobs=-1)\n",
    "    return scores"
   ]
  },
  {
   "cell_type": "code",
   "execution_count": 60,
   "id": "dff03404",
   "metadata": {},
   "outputs": [],
   "source": [
    "results = []\n",
    "repeats = np.arange(1,11)\n",
    "\n",
    "for i in repeats:\n",
    "    rmse = evaluate_model(x,y,i)\n",
    "    results.append(rmse)"
   ]
  },
  {
   "cell_type": "code",
   "execution_count": 61,
   "id": "7792987d",
   "metadata": {},
   "outputs": [],
   "source": [
    "# to change the sign, take square root of the values\n",
    "\n",
    "results_adj = results.copy()\n",
    "\n",
    "for i in range(0,10):\n",
    "    for j in range(0, (i+1)*10):\n",
    "        value = np.sqrt(abs(results[i][j]))\n",
    "        results_adj[i][j] = value"
   ]
  },
  {
   "cell_type": "code",
   "execution_count": 62,
   "id": "c204de82",
   "metadata": {},
   "outputs": [
    {
     "data": {
      "image/png": "[encoded data removed]",
      "text/plain": [
       "<Figure size 1080x576 with 1 Axes>"
      ]
     },
     "metadata": {
      "needs_background": "light"
     },
     "output_type": "display_data"
    }
   ],
   "source": [
    "rcParams['figure.figsize'] = (15,8)\n",
    "plt.boxplot(results_adj, labels=[str(i) for i in repeats], showmeans=True)\n",
    "plt.show()"
   ]
  },
  {
   "cell_type": "code",
   "execution_count": 63,
   "id": "afbddcd1",
   "metadata": {},
   "outputs": [
    {
     "name": "stdout",
     "output_type": "stream",
     "text": [
      "1195.79\n"
     ]
    }
   ],
   "source": [
    "# repeats=3 (rmse of the model for complete training data)\n",
    "\n",
    "cross_validator = RepeatedKFold(n_splits=10, n_repeats=3, random_state=0)\n",
    "model = LinearRegression()\n",
    "scores = cross_val_score(model, x, y, scoring='neg_mean_squared_error', cv=cross_validator, n_jobs=-1)\n",
    "final_score = np.round(np.sqrt(abs(scores.mean())),2)\n",
    "print(final_score)"
   ]
  },
  {
   "cell_type": "markdown",
   "id": "e182fdb2",
   "metadata": {},
   "source": [
    "### Decision Tree Regressor"
   ]
  },
  {
   "cell_type": "code",
   "execution_count": 64,
   "id": "73f96d1c",
   "metadata": {},
   "outputs": [
    {
     "name": "stdout",
     "output_type": "stream",
     "text": [
      "Train RMSE: 0.0\n",
      "Test RMSE : 1567.23\n"
     ]
    }
   ],
   "source": [
    "# raw decision tree model\n",
    "model = DecisionTreeRegressor(random_state=0).fit(x_train,y_train)\n",
    "\n",
    "y_pred_train = model.predict(x_train)\n",
    "train_rmse = mean_squared_error(y_train, y_pred_train, squared=False)\n",
    "\n",
    "y_pred_test = model.predict(x_test)\n",
    "test_rmse = mean_squared_error(y_test, y_pred_test, squared=False)\n",
    "\n",
    "print('Train RMSE: {}'.format(round(train_rmse,2)))\n",
    "print('Test RMSE : {}'.format(round(test_rmse,2)))"
   ]
  },
  {
   "cell_type": "code",
   "execution_count": 65,
   "id": "1ea7009d",
   "metadata": {},
   "outputs": [
    {
     "name": "stdout",
     "output_type": "stream",
     "text": [
      "{'max_depth': 15, 'min_samples_leaf': 25, 'min_samples_split': 75}\n"
     ]
    }
   ],
   "source": [
    "# grid search\n",
    "parameters = {'max_depth': [15,20,25],\n",
    "              'min_samples_leaf': [20,25,30],\n",
    "              'min_samples_split': [45,60,75]}\n",
    "\n",
    "model = DecisionTreeRegressor(random_state=0)\n",
    "grid = GridSearchCV(estimator=model, param_grid=parameters, cv=5, n_jobs=-1).fit(x_train,y_train)\n",
    "print(grid.best_params_)"
   ]
  },
  {
   "cell_type": "code",
   "execution_count": 66,
   "id": "2cbdf881",
   "metadata": {},
   "outputs": [
    {
     "name": "stdout",
     "output_type": "stream",
     "text": [
      "Train RMSE: 1008.0\n",
      "Test RMSE : 1151.75\n"
     ]
    }
   ],
   "source": [
    "model = grid.best_estimator_.fit(x_train,y_train)\n",
    "\n",
    "y_pred_train = model.predict(x_train)\n",
    "train_rmse = mean_squared_error(y_train, y_pred_train, squared=False)\n",
    "\n",
    "y_pred_test = model.predict(x_test)\n",
    "test_rmse = mean_squared_error(y_test, y_pred_test, squared=False)\n",
    "\n",
    "print('Train RMSE: {}'.format(round(train_rmse,2)))\n",
    "print('Test RMSE : {}'.format(round(test_rmse,2)))"
   ]
  },
  {
   "cell_type": "markdown",
   "id": "1fccd19c",
   "metadata": {},
   "source": [
    "### Cross Validation"
   ]
  },
  {
   "cell_type": "code",
   "execution_count": 67,
   "id": "96e08ee1",
   "metadata": {},
   "outputs": [],
   "source": [
    "# custom function for model evaluation\n",
    "\n",
    "def evaluate_model(x,y,repeats):\n",
    "    cross_validator = RepeatedKFold(n_splits=10, n_repeats=repeats, random_state=0)\n",
    "    model = grid.best_estimator_\n",
    "    scores = cross_val_score(model, x, y, scoring='neg_mean_squared_error', cv=cross_validator, n_jobs=-1)\n",
    "    return scores"
   ]
  },
  {
   "cell_type": "code",
   "execution_count": 68,
   "id": "fefbbe0b",
   "metadata": {},
   "outputs": [],
   "source": [
    "results = []\n",
    "repeats = np.arange(1,11)\n",
    "\n",
    "for i in repeats:\n",
    "    rmse = evaluate_model(x,y,i)\n",
    "    results.append(rmse)"
   ]
  },
  {
   "cell_type": "code",
   "execution_count": 69,
   "id": "889694e9",
   "metadata": {},
   "outputs": [],
   "source": [
    "# to change the sign, take square root of the values\n",
    "\n",
    "results_adj = results.copy()\n",
    "\n",
    "for i in range(0,10):\n",
    "    for j in range(0, (i+1)*10):\n",
    "        value = np.sqrt(abs(results[i][j]))\n",
    "        results_adj[i][j] = value"
   ]
  },
  {
   "cell_type": "code",
   "execution_count": 70,
   "id": "3786773b",
   "metadata": {},
   "outputs": [
    {
     "data": {
      "image/png": "[encoded data removed]",
      "text/plain": [
       "<Figure size 1080x576 with 1 Axes>"
      ]
     },
     "metadata": {
      "needs_background": "light"
     },
     "output_type": "display_data"
    }
   ],
   "source": [
    "rcParams['figure.figsize'] = (15,8)\n",
    "plt.boxplot(results_adj, labels=[str(i) for i in repeats], showmeans=True)\n",
    "plt.show()"
   ]
  },
  {
   "cell_type": "code",
   "execution_count": 71,
   "id": "161135f2",
   "metadata": {},
   "outputs": [
    {
     "name": "stdout",
     "output_type": "stream",
     "text": [
      "1125.17\n"
     ]
    }
   ],
   "source": [
    "# repeats=4 (rmse of the model for complete training data)\n",
    "\n",
    "cross_validator = RepeatedKFold(n_splits=10, n_repeats=4, random_state=0)\n",
    "model = grid.best_estimator_\n",
    "scores = cross_val_score(model, x, y, scoring='neg_mean_squared_error', cv=cross_validator, n_jobs=-1)\n",
    "final_score = np.round(np.sqrt(abs(scores.mean())),2)\n",
    "print(final_score)"
   ]
  },
  {
   "cell_type": "markdown",
   "id": "6d3c131a",
   "metadata": {},
   "source": [
    "### Random Forest Regressor"
   ]
  },
  {
   "cell_type": "code",
   "execution_count": 72,
   "id": "ba49d75b",
   "metadata": {},
   "outputs": [
    {
     "name": "stdout",
     "output_type": "stream",
     "text": [
      "Train RMSE: 420.13\n",
      "Test RMSE : 1154.95\n"
     ]
    }
   ],
   "source": [
    "# raw random forest model\n",
    "model = RandomForestRegressor(n_estimators=100, max_features=7, random_state=0).fit(x_train,y_train)\n",
    "\n",
    "y_pred_train = model.predict(x_train)\n",
    "train_rmse = mean_squared_error(y_train, y_pred_train, squared=False)\n",
    "\n",
    "y_pred_test = model.predict(x_test)\n",
    "test_rmse = mean_squared_error(y_test, y_pred_test, squared=False)\n",
    "\n",
    "print('Train RMSE: {}'.format(round(train_rmse,2)))\n",
    "print('Test RMSE : {}'.format(round(test_rmse,2)))"
   ]
  },
  {
   "cell_type": "code",
   "execution_count": 73,
   "id": "82fe2c6b",
   "metadata": {},
   "outputs": [
    {
     "name": "stdout",
     "output_type": "stream",
     "text": [
      "{'max_depth': 15, 'max_features': 6, 'min_samples_leaf': 25, 'min_samples_split': 60, 'n_estimators': 200}\n"
     ]
    }
   ],
   "source": [
    "# grid search\n",
    "parameters = {'max_depth': [15,20],\n",
    "              'max_features': [6,7],\n",
    "              'min_samples_leaf': [20,25],\n",
    "              'min_samples_split': [60,75],\n",
    "              'n_estimators': [150,200]}\n",
    "\n",
    "model = RandomForestRegressor(random_state=0)\n",
    "grid = GridSearchCV(estimator=model, param_grid=parameters, cv=5, n_jobs=-1).fit(x_train,y_train)\n",
    "print(grid.best_params_)"
   ]
  },
  {
   "cell_type": "code",
   "execution_count": 74,
   "id": "c6490ff1",
   "metadata": {},
   "outputs": [
    {
     "name": "stdout",
     "output_type": "stream",
     "text": [
      "Train RMSE: 1005.56\n",
      "Test RMSE : 1109.04\n"
     ]
    }
   ],
   "source": [
    "model = grid.best_estimator_.fit(x_train,y_train)\n",
    "\n",
    "y_pred_train = model.predict(x_train)\n",
    "train_rmse = mean_squared_error(y_train, y_pred_train, squared=False)\n",
    "\n",
    "y_pred_test = model.predict(x_test)\n",
    "test_rmse = mean_squared_error(y_test, y_pred_test, squared=False)\n",
    "\n",
    "print('Train RMSE: {}'.format(round(train_rmse,2)))\n",
    "print('Test RMSE : {}'.format(round(test_rmse,2)))"
   ]
  },
  {
   "cell_type": "markdown",
   "id": "904b01dc",
   "metadata": {},
   "source": [
    "### Cross Validation"
   ]
  },
  {
   "cell_type": "code",
   "execution_count": 76,
   "id": "608ea898",
   "metadata": {},
   "outputs": [],
   "source": [
    "results = []\n",
    "repeats = np.arange(1,11)\n",
    "\n",
    "for i in repeats:\n",
    "    rmse = evaluate_model(x,y,i)\n",
    "    results.append(rmse)"
   ]
  },
  {
   "cell_type": "code",
   "execution_count": 77,
   "id": "5c31a996",
   "metadata": {},
   "outputs": [],
   "source": [
    "# to change the sign, take square root of the values\n",
    "\n",
    "results_adj = results.copy()\n",
    "\n",
    "for i in range(0,10):\n",
    "    for j in range(0, (i+1)*10):\n",
    "        value = np.sqrt(abs(results[i][j]))\n",
    "        results_adj[i][j] = value"
   ]
  },
  {
   "cell_type": "code",
   "execution_count": 78,
   "id": "14ea20bd",
   "metadata": {},
   "outputs": [
    {
     "data": {
      "image/png": "[encoded data removed]",
      "text/plain": [
       "<Figure size 1080x576 with 1 Axes>"
      ]
     },
     "metadata": {
      "needs_background": "light"
     },
     "output_type": "display_data"
    }
   ],
   "source": [
    "rcParams['figure.figsize'] = (15,8)\n",
    "plt.boxplot(results_adj, labels=[str(i) for i in repeats], showmeans=True)\n",
    "plt.show()"
   ]
  },
  {
   "cell_type": "code",
   "execution_count": 83,
   "id": "68bf4f2d",
   "metadata": {},
   "outputs": [
    {
     "name": "stdout",
     "output_type": "stream",
     "text": [
      "1080.61\n"
     ]
    }
   ],
   "source": [
    "# repeats=9 (rmse of the model for complete training data)\n",
    "\n",
    "cross_validator = RepeatedKFold(n_splits=10, n_repeats=9, random_state=0)\n",
    "model = grid.best_estimator_\n",
    "scores = cross_val_score(model, x, y, scoring='neg_mean_squared_error', cv=cross_validator, n_jobs=-1)\n",
    "final_score = np.round(np.sqrt(abs(scores.mean())),2)\n",
    "print(final_score)"
   ]
  },
  {
   "cell_type": "markdown",
   "id": "f82849b8",
   "metadata": {},
   "source": [
    "### MLP Regressor"
   ]
  },
  {
   "cell_type": "code",
   "execution_count": 84,
   "id": "7c2b9942",
   "metadata": {},
   "outputs": [
    {
     "name": "stdout",
     "output_type": "stream",
     "text": [
      "Train RMSE: 1067.58\n",
      "Test RMSE : 1106.98\n"
     ]
    }
   ],
   "source": [
    "# raw ann model\n",
    "model = MLPRegressor(max_iter=1000,random_state=0).fit(x_train_sc,y_train)\n",
    "\n",
    "y_pred_train = model.predict(x_train_sc)\n",
    "train_rmse = mean_squared_error(y_train, y_pred_train, squared=False)\n",
    "\n",
    "y_pred_test = model.predict(x_test_sc)\n",
    "test_rmse = mean_squared_error(y_test, y_pred_test, squared=False)\n",
    "\n",
    "print('Train RMSE: {}'.format(round(train_rmse,2)))\n",
    "print('Test RMSE : {}'.format(round(test_rmse,2)))"
   ]
  },
  {
   "cell_type": "code",
   "execution_count": 85,
   "id": "9ee40d88",
   "metadata": {},
   "outputs": [
    {
     "name": "stdout",
     "output_type": "stream",
     "text": [
      "{'activation': 'relu', 'hidden_layer_sizes': 500, 'solver': 'adam'}\n"
     ]
    }
   ],
   "source": [
    "# grid search\n",
    "parameters = {'hidden_layer_sizes':[(500),(100,100)],\n",
    "              'activation': [\"tanh\", \"relu\"], \n",
    "              'solver': [\"sgd\", \"adam\"]}\n",
    "\n",
    "model = MLPRegressor(max_iter=1000, random_state=0)\n",
    "grid = GridSearchCV(estimator=model, param_grid=parameters, cv=5, n_jobs=-1).fit(x_train_sc,y_train)\n",
    "print(grid.best_params_)"
   ]
  },
  {
   "cell_type": "code",
   "execution_count": 86,
   "id": "13bc1e5c",
   "metadata": {},
   "outputs": [
    {
     "name": "stdout",
     "output_type": "stream",
     "text": [
      "Train RMSE: 1050.63\n",
      "Test RMSE : 1099.44\n"
     ]
    }
   ],
   "source": [
    "model = grid.best_estimator_.fit(x_train_sc,y_train)\n",
    "\n",
    "y_pred_train = model.predict(x_train_sc)\n",
    "train_rmse = mean_squared_error(y_train, y_pred_train, squared=False)\n",
    "\n",
    "y_pred_test = model.predict(x_test_sc)\n",
    "test_rmse = mean_squared_error(y_test, y_pred_test, squared=False)\n",
    "\n",
    "print('Train RMSE: {}'.format(round(train_rmse,2)))\n",
    "print('Test RMSE : {}'.format(round(test_rmse,2)))"
   ]
  },
  {
   "cell_type": "markdown",
   "id": "948e0bf5",
   "metadata": {},
   "source": [
    "### Cross Validation"
   ]
  },
  {
   "cell_type": "code",
   "execution_count": 87,
   "id": "2e07af54",
   "metadata": {},
   "outputs": [],
   "source": [
    "# scaled version\n",
    "x_sc = x.apply(zscore)"
   ]
  },
  {
   "cell_type": "code",
   "execution_count": 89,
   "id": "a799f089",
   "metadata": {},
   "outputs": [
    {
     "name": "stdout",
     "output_type": "stream",
     "text": [
      "1077.14\n"
     ]
    }
   ],
   "source": [
    "# repeats=2 (rmse of the model for complete training data)\n",
    "\n",
    "cross_validator = RepeatedKFold(n_splits=10, n_repeats=2, random_state=0)\n",
    "model = grid.best_estimator_\n",
    "scores = cross_val_score(model, x_sc, y, scoring='neg_mean_squared_error', cv=cross_validator, n_jobs=-1)\n",
    "final_score = np.round(np.sqrt(abs(scores.mean())),2)\n",
    "print(final_score)"
   ]
  },
  {
   "cell_type": "markdown",
   "id": "a100e8c7",
   "metadata": {},
   "source": [
    "### Model Comparison"
   ]
  },
  {
   "cell_type": "markdown",
   "id": "e1921db3",
   "metadata": {},
   "source": [
    "**Train and Test RMSE**"
   ]
  },
  {
   "cell_type": "code",
   "execution_count": 91,
   "id": "193274b6",
   "metadata": {},
   "outputs": [
    {
     "name": "stdout",
     "output_type": "stream",
     "text": [
      "                         Train RMSE  Test RMSE  Final RMSE\n",
      "Linear Regressor            1182.35    1222.73     1195.79\n",
      "Decision Tree Regressor     1008.00    1151.75     1125.17\n",
      "Random Forest Regressor     1005.56    1109.04     1080.61\n",
      "MLP Regressor               1050.63    1099.44     1077.14\n"
     ]
    }
   ],
   "source": [
    "data = {'Train RMSE': [1182.35, 1008.00, 1005.56, 1050.63],\n",
    "        'Test RMSE':[1222.73, 1151.75, 1109.04, 1099.44],\n",
    "        'Final RMSE':[1195.79, 1125.17, 1080.61, 1077.14]}\n",
    "index = ['Linear Regressor','Decision Tree Regressor', 'Random Forest Regressor', 'MLP Regressor']\n",
    "print(pd.DataFrame(data, index=index))"
   ]
  }
 ],
 "metadata": {
  "kernelspec": {
   "display_name": "Python 3 (ipykernel)",
   "language": "python",
   "name": "python3"
  },
  "language_info": {
   "codemirror_mode": {
    "name": "ipython",
    "version": 3
   },
   "file_extension": ".py",
   "mimetype": "text/x-python",
   "name": "python",
   "nbconvert_exporter": "python",
   "pygments_lexer": "ipython3",
   "version": "3.8.12"
  }
 },
 "nbformat": 4,
 "nbformat_minor": 5
}
