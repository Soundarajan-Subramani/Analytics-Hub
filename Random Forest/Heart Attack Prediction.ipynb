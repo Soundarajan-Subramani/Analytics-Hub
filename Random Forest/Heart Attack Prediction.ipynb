{
 "cells": [
  {
   "cell_type": "code",
   "execution_count": 1,
   "id": "0bbb899a",
   "metadata": {},
   "outputs": [],
   "source": [
    "import numpy as np\n",
    "import pandas as pd"
   ]
  },
  {
   "cell_type": "code",
   "execution_count": 2,
   "id": "ae485e1f",
   "metadata": {},
   "outputs": [],
   "source": [
    "import scipy.stats as stats\n",
    "from scipy.stats import zscore"
   ]
  },
  {
   "cell_type": "code",
   "execution_count": 44,
   "id": "d93f1a95",
   "metadata": {},
   "outputs": [],
   "source": [
    "from sklearn import tree\n",
    "from sklearn.impute import SimpleImputer\n",
    "from sklearn.metrics import classification_report\n",
    "from sklearn.model_selection import train_test_split\n",
    "from sklearn.ensemble import RandomForestClassifier\n",
    "from sklearn.model_selection import GridSearchCV\n",
    "from sklearn.tree import DecisionTreeClassifier\n",
    "from sklearn.metrics import confusion_matrix\n",
    "from sklearn.metrics import accuracy_score\n",
    "from sklearn.metrics import roc_auc_score\n",
    "from sklearn.metrics import roc_curve"
   ]
  },
  {
   "cell_type": "code",
   "execution_count": 4,
   "id": "a600554f",
   "metadata": {},
   "outputs": [],
   "source": [
    "import seaborn as sns\n",
    "import matplotlib.pyplot as plt\n",
    "%matplotlib inline"
   ]
  },
  {
   "cell_type": "code",
   "execution_count": 5,
   "id": "da6c3f8a",
   "metadata": {},
   "outputs": [],
   "source": [
    "from warnings import filterwarnings\n",
    "filterwarnings('ignore')"
   ]
  },
  {
   "cell_type": "code",
   "execution_count": 13,
   "id": "fbd7ddf1",
   "metadata": {},
   "outputs": [
    {
     "data": {
      "text/html": [
       "<div>\n",
       "<style scoped>\n",
       "    .dataframe tbody tr th:only-of-type {\n",
       "        vertical-align: middle;\n",
       "    }\n",
       "\n",
       "    .dataframe tbody tr th {\n",
       "        vertical-align: top;\n",
       "    }\n",
       "\n",
       "    .dataframe thead th {\n",
       "        text-align: right;\n",
       "    }\n",
       "</style>\n",
       "<table border=\"1\" class=\"dataframe\">\n",
       "  <thead>\n",
       "    <tr style=\"text-align: right;\">\n",
       "      <th></th>\n",
       "      <th>Age</th>\n",
       "      <th>Gender</th>\n",
       "      <th>Chest Pain</th>\n",
       "      <th>Resting BP</th>\n",
       "      <th>Cholesterol</th>\n",
       "      <th>Fasting BS</th>\n",
       "      <th>Resting ECG</th>\n",
       "      <th>Maximum HR</th>\n",
       "      <th>EXA</th>\n",
       "      <th>Old Peak</th>\n",
       "      <th>ST Slope</th>\n",
       "      <th>Heart Disease</th>\n",
       "    </tr>\n",
       "  </thead>\n",
       "  <tbody>\n",
       "    <tr>\n",
       "      <th>0</th>\n",
       "      <td>40</td>\n",
       "      <td>M</td>\n",
       "      <td>ATA</td>\n",
       "      <td>140</td>\n",
       "      <td>289</td>\n",
       "      <td>0</td>\n",
       "      <td>Normal</td>\n",
       "      <td>172</td>\n",
       "      <td>N</td>\n",
       "      <td>0.0</td>\n",
       "      <td>Up</td>\n",
       "      <td>0</td>\n",
       "    </tr>\n",
       "    <tr>\n",
       "      <th>1</th>\n",
       "      <td>49</td>\n",
       "      <td>F</td>\n",
       "      <td>NAP</td>\n",
       "      <td>160</td>\n",
       "      <td>180</td>\n",
       "      <td>0</td>\n",
       "      <td>Normal</td>\n",
       "      <td>156</td>\n",
       "      <td>N</td>\n",
       "      <td>1.0</td>\n",
       "      <td>Flat</td>\n",
       "      <td>1</td>\n",
       "    </tr>\n",
       "    <tr>\n",
       "      <th>2</th>\n",
       "      <td>37</td>\n",
       "      <td>M</td>\n",
       "      <td>ATA</td>\n",
       "      <td>130</td>\n",
       "      <td>283</td>\n",
       "      <td>0</td>\n",
       "      <td>ST</td>\n",
       "      <td>98</td>\n",
       "      <td>N</td>\n",
       "      <td>0.0</td>\n",
       "      <td>Up</td>\n",
       "      <td>0</td>\n",
       "    </tr>\n",
       "    <tr>\n",
       "      <th>3</th>\n",
       "      <td>48</td>\n",
       "      <td>F</td>\n",
       "      <td>ASY</td>\n",
       "      <td>138</td>\n",
       "      <td>214</td>\n",
       "      <td>0</td>\n",
       "      <td>Normal</td>\n",
       "      <td>108</td>\n",
       "      <td>Y</td>\n",
       "      <td>1.5</td>\n",
       "      <td>Flat</td>\n",
       "      <td>1</td>\n",
       "    </tr>\n",
       "    <tr>\n",
       "      <th>4</th>\n",
       "      <td>54</td>\n",
       "      <td>M</td>\n",
       "      <td>NAP</td>\n",
       "      <td>150</td>\n",
       "      <td>195</td>\n",
       "      <td>0</td>\n",
       "      <td>Normal</td>\n",
       "      <td>122</td>\n",
       "      <td>N</td>\n",
       "      <td>0.0</td>\n",
       "      <td>Up</td>\n",
       "      <td>0</td>\n",
       "    </tr>\n",
       "  </tbody>\n",
       "</table>\n",
       "</div>"
      ],
      "text/plain": [
       "   Age Gender Chest Pain  Resting BP  Cholesterol  Fasting BS Resting ECG  \\\n",
       "0   40      M        ATA         140          289           0      Normal   \n",
       "1   49      F        NAP         160          180           0      Normal   \n",
       "2   37      M        ATA         130          283           0          ST   \n",
       "3   48      F        ASY         138          214           0      Normal   \n",
       "4   54      M        NAP         150          195           0      Normal   \n",
       "\n",
       "   Maximum HR EXA  Old Peak ST Slope  Heart Disease  \n",
       "0         172   N       0.0       Up              0  \n",
       "1         156   N       1.0     Flat              1  \n",
       "2          98   N       0.0       Up              0  \n",
       "3         108   Y       1.5     Flat              1  \n",
       "4         122   N       0.0       Up              0  "
      ]
     },
     "execution_count": 13,
     "metadata": {},
     "output_type": "execute_result"
    }
   ],
   "source": [
    "# loading the data into a dataframe\n",
    "\n",
    "df = pd.read_csv(\"Heart Disease.csv\")\n",
    "df.head()"
   ]
  },
  {
   "cell_type": "code",
   "execution_count": 14,
   "id": "9b84612f",
   "metadata": {},
   "outputs": [
    {
     "data": {
      "text/plain": [
       "(918, 12)"
      ]
     },
     "execution_count": 14,
     "metadata": {},
     "output_type": "execute_result"
    }
   ],
   "source": [
    "df.shape"
   ]
  },
  {
   "cell_type": "code",
   "execution_count": 15,
   "id": "c7984efc",
   "metadata": {
    "scrolled": true
   },
   "outputs": [
    {
     "name": "stdout",
     "output_type": "stream",
     "text": [
      "<class 'pandas.core.frame.DataFrame'>\n",
      "RangeIndex: 918 entries, 0 to 917\n",
      "Data columns (total 12 columns):\n",
      " #   Column         Non-Null Count  Dtype  \n",
      "---  ------         --------------  -----  \n",
      " 0   Age            918 non-null    int64  \n",
      " 1   Gender         918 non-null    object \n",
      " 2   Chest Pain     918 non-null    object \n",
      " 3   Resting BP     918 non-null    int64  \n",
      " 4   Cholesterol    918 non-null    int64  \n",
      " 5   Fasting BS     918 non-null    int64  \n",
      " 6   Resting ECG    918 non-null    object \n",
      " 7   Maximum HR     918 non-null    int64  \n",
      " 8   EXA            918 non-null    object \n",
      " 9   Old Peak       918 non-null    float64\n",
      " 10  ST Slope       918 non-null    object \n",
      " 11  Heart Disease  918 non-null    int64  \n",
      "dtypes: float64(1), int64(6), object(5)\n",
      "memory usage: 86.2+ KB\n"
     ]
    }
   ],
   "source": [
    "df.info()"
   ]
  },
  {
   "cell_type": "markdown",
   "id": "36e04f31",
   "metadata": {},
   "source": [
    "---------"
   ]
  },
  {
   "cell_type": "markdown",
   "id": "f0cea7c5",
   "metadata": {},
   "source": [
    "### Performing EDA."
   ]
  },
  {
   "cell_type": "code",
   "execution_count": 16,
   "id": "52107ded",
   "metadata": {},
   "outputs": [],
   "source": [
    "# seperating columns of different data types\n",
    "\n",
    "num = []\n",
    "cat = []\n",
    "\n",
    "for i in df.columns:\n",
    "    if df[i].dtype == \"object\":\n",
    "        cat.append(i)\n",
    "    else:\n",
    "        num.append(i)"
   ]
  },
  {
   "cell_type": "code",
   "execution_count": 17,
   "id": "accdc9e4",
   "metadata": {},
   "outputs": [
    {
     "name": "stdout",
     "output_type": "stream",
     "text": [
      "M    725\n",
      "F    193\n",
      "Name: Gender, dtype: int64\n",
      "\n",
      "ASY    496\n",
      "NAP    203\n",
      "ATA    173\n",
      "TA      46\n",
      "Name: Chest Pain, dtype: int64\n",
      "\n",
      "Normal    552\n",
      "LVH       188\n",
      "ST        178\n",
      "Name: Resting ECG, dtype: int64\n",
      "\n",
      "N    547\n",
      "Y    371\n",
      "Name: EXA, dtype: int64\n",
      "\n",
      "Flat    460\n",
      "Up      395\n",
      "Down     63\n",
      "Name: ST Slope, dtype: int64\n",
      "\n"
     ]
    }
   ],
   "source": [
    "# checking the object variables\n",
    "\n",
    "for i in cat:\n",
    "    print(df[i].value_counts())\n",
    "    print(\"\")"
   ]
  },
  {
   "cell_type": "code",
   "execution_count": 18,
   "id": "f2bab867",
   "metadata": {},
   "outputs": [
    {
     "data": {
      "text/html": [
       "<div>\n",
       "<style scoped>\n",
       "    .dataframe tbody tr th:only-of-type {\n",
       "        vertical-align: middle;\n",
       "    }\n",
       "\n",
       "    .dataframe tbody tr th {\n",
       "        vertical-align: top;\n",
       "    }\n",
       "\n",
       "    .dataframe thead th {\n",
       "        text-align: right;\n",
       "    }\n",
       "</style>\n",
       "<table border=\"1\" class=\"dataframe\">\n",
       "  <thead>\n",
       "    <tr style=\"text-align: right;\">\n",
       "      <th></th>\n",
       "      <th>count</th>\n",
       "      <th>mean</th>\n",
       "      <th>std</th>\n",
       "      <th>min</th>\n",
       "      <th>25%</th>\n",
       "      <th>50%</th>\n",
       "      <th>75%</th>\n",
       "      <th>max</th>\n",
       "    </tr>\n",
       "  </thead>\n",
       "  <tbody>\n",
       "    <tr>\n",
       "      <th>Age</th>\n",
       "      <td>918.0</td>\n",
       "      <td>53.510893</td>\n",
       "      <td>9.432617</td>\n",
       "      <td>28.0</td>\n",
       "      <td>47.00</td>\n",
       "      <td>54.0</td>\n",
       "      <td>60.0</td>\n",
       "      <td>77.0</td>\n",
       "    </tr>\n",
       "    <tr>\n",
       "      <th>Resting BP</th>\n",
       "      <td>918.0</td>\n",
       "      <td>132.396514</td>\n",
       "      <td>18.514154</td>\n",
       "      <td>0.0</td>\n",
       "      <td>120.00</td>\n",
       "      <td>130.0</td>\n",
       "      <td>140.0</td>\n",
       "      <td>200.0</td>\n",
       "    </tr>\n",
       "    <tr>\n",
       "      <th>Cholesterol</th>\n",
       "      <td>918.0</td>\n",
       "      <td>198.799564</td>\n",
       "      <td>109.384145</td>\n",
       "      <td>0.0</td>\n",
       "      <td>173.25</td>\n",
       "      <td>223.0</td>\n",
       "      <td>267.0</td>\n",
       "      <td>603.0</td>\n",
       "    </tr>\n",
       "    <tr>\n",
       "      <th>Fasting BS</th>\n",
       "      <td>918.0</td>\n",
       "      <td>0.233115</td>\n",
       "      <td>0.423046</td>\n",
       "      <td>0.0</td>\n",
       "      <td>0.00</td>\n",
       "      <td>0.0</td>\n",
       "      <td>0.0</td>\n",
       "      <td>1.0</td>\n",
       "    </tr>\n",
       "    <tr>\n",
       "      <th>Maximum HR</th>\n",
       "      <td>918.0</td>\n",
       "      <td>136.809368</td>\n",
       "      <td>25.460334</td>\n",
       "      <td>60.0</td>\n",
       "      <td>120.00</td>\n",
       "      <td>138.0</td>\n",
       "      <td>156.0</td>\n",
       "      <td>202.0</td>\n",
       "    </tr>\n",
       "    <tr>\n",
       "      <th>Old Peak</th>\n",
       "      <td>918.0</td>\n",
       "      <td>0.887364</td>\n",
       "      <td>1.066570</td>\n",
       "      <td>-2.6</td>\n",
       "      <td>0.00</td>\n",
       "      <td>0.6</td>\n",
       "      <td>1.5</td>\n",
       "      <td>6.2</td>\n",
       "    </tr>\n",
       "    <tr>\n",
       "      <th>Heart Disease</th>\n",
       "      <td>918.0</td>\n",
       "      <td>0.553377</td>\n",
       "      <td>0.497414</td>\n",
       "      <td>0.0</td>\n",
       "      <td>0.00</td>\n",
       "      <td>1.0</td>\n",
       "      <td>1.0</td>\n",
       "      <td>1.0</td>\n",
       "    </tr>\n",
       "  </tbody>\n",
       "</table>\n",
       "</div>"
      ],
      "text/plain": [
       "               count        mean         std   min     25%    50%    75%  \\\n",
       "Age            918.0   53.510893    9.432617  28.0   47.00   54.0   60.0   \n",
       "Resting BP     918.0  132.396514   18.514154   0.0  120.00  130.0  140.0   \n",
       "Cholesterol    918.0  198.799564  109.384145   0.0  173.25  223.0  267.0   \n",
       "Fasting BS     918.0    0.233115    0.423046   0.0    0.00    0.0    0.0   \n",
       "Maximum HR     918.0  136.809368   25.460334  60.0  120.00  138.0  156.0   \n",
       "Old Peak       918.0    0.887364    1.066570  -2.6    0.00    0.6    1.5   \n",
       "Heart Disease  918.0    0.553377    0.497414   0.0    0.00    1.0    1.0   \n",
       "\n",
       "                 max  \n",
       "Age             77.0  \n",
       "Resting BP     200.0  \n",
       "Cholesterol    603.0  \n",
       "Fasting BS       1.0  \n",
       "Maximum HR     202.0  \n",
       "Old Peak         6.2  \n",
       "Heart Disease    1.0  "
      ]
     },
     "execution_count": 18,
     "metadata": {},
     "output_type": "execute_result"
    }
   ],
   "source": [
    "# sneak peak at numerical columns summary\n",
    "\n",
    "df[num].describe().T"
   ]
  },
  {
   "cell_type": "code",
   "execution_count": 20,
   "id": "f2c698c2",
   "metadata": {
    "scrolled": true
   },
   "outputs": [
    {
     "data": {
      "text/html": [
       "<div>\n",
       "<style scoped>\n",
       "    .dataframe tbody tr th:only-of-type {\n",
       "        vertical-align: middle;\n",
       "    }\n",
       "\n",
       "    .dataframe tbody tr th {\n",
       "        vertical-align: top;\n",
       "    }\n",
       "\n",
       "    .dataframe thead th {\n",
       "        text-align: right;\n",
       "    }\n",
       "</style>\n",
       "<table border=\"1\" class=\"dataframe\">\n",
       "  <thead>\n",
       "    <tr style=\"text-align: right;\">\n",
       "      <th></th>\n",
       "      <th>Age</th>\n",
       "      <th>Gender</th>\n",
       "      <th>Chest Pain</th>\n",
       "      <th>Resting BP</th>\n",
       "      <th>Cholesterol</th>\n",
       "      <th>Fasting BS</th>\n",
       "      <th>Resting ECG</th>\n",
       "      <th>Maximum HR</th>\n",
       "      <th>EXA</th>\n",
       "      <th>Old Peak</th>\n",
       "      <th>ST Slope</th>\n",
       "      <th>Heart Disease</th>\n",
       "    </tr>\n",
       "  </thead>\n",
       "  <tbody>\n",
       "    <tr>\n",
       "      <th>0</th>\n",
       "      <td>40</td>\n",
       "      <td>M</td>\n",
       "      <td>ATA</td>\n",
       "      <td>140</td>\n",
       "      <td>289</td>\n",
       "      <td>0</td>\n",
       "      <td>Normal</td>\n",
       "      <td>172</td>\n",
       "      <td>N</td>\n",
       "      <td>0.0</td>\n",
       "      <td>Up</td>\n",
       "      <td>0</td>\n",
       "    </tr>\n",
       "    <tr>\n",
       "      <th>1</th>\n",
       "      <td>49</td>\n",
       "      <td>F</td>\n",
       "      <td>NAP</td>\n",
       "      <td>160</td>\n",
       "      <td>180</td>\n",
       "      <td>0</td>\n",
       "      <td>Normal</td>\n",
       "      <td>156</td>\n",
       "      <td>N</td>\n",
       "      <td>1.0</td>\n",
       "      <td>Flat</td>\n",
       "      <td>1</td>\n",
       "    </tr>\n",
       "    <tr>\n",
       "      <th>2</th>\n",
       "      <td>37</td>\n",
       "      <td>M</td>\n",
       "      <td>ATA</td>\n",
       "      <td>130</td>\n",
       "      <td>283</td>\n",
       "      <td>0</td>\n",
       "      <td>ST</td>\n",
       "      <td>98</td>\n",
       "      <td>N</td>\n",
       "      <td>0.0</td>\n",
       "      <td>Up</td>\n",
       "      <td>0</td>\n",
       "    </tr>\n",
       "    <tr>\n",
       "      <th>3</th>\n",
       "      <td>48</td>\n",
       "      <td>F</td>\n",
       "      <td>ASY</td>\n",
       "      <td>138</td>\n",
       "      <td>214</td>\n",
       "      <td>0</td>\n",
       "      <td>Normal</td>\n",
       "      <td>108</td>\n",
       "      <td>Y</td>\n",
       "      <td>1.5</td>\n",
       "      <td>Flat</td>\n",
       "      <td>1</td>\n",
       "    </tr>\n",
       "    <tr>\n",
       "      <th>4</th>\n",
       "      <td>54</td>\n",
       "      <td>M</td>\n",
       "      <td>NAP</td>\n",
       "      <td>150</td>\n",
       "      <td>195</td>\n",
       "      <td>0</td>\n",
       "      <td>Normal</td>\n",
       "      <td>122</td>\n",
       "      <td>N</td>\n",
       "      <td>0.0</td>\n",
       "      <td>Up</td>\n",
       "      <td>0</td>\n",
       "    </tr>\n",
       "  </tbody>\n",
       "</table>\n",
       "</div>"
      ],
      "text/plain": [
       "   Age Gender Chest Pain  Resting BP  Cholesterol  Fasting BS Resting ECG  \\\n",
       "0   40      M        ATA         140          289           0      Normal   \n",
       "1   49      F        NAP         160          180           0      Normal   \n",
       "2   37      M        ATA         130          283           0          ST   \n",
       "3   48      F        ASY         138          214           0      Normal   \n",
       "4   54      M        NAP         150          195           0      Normal   \n",
       "\n",
       "   Maximum HR EXA  Old Peak ST Slope  Heart Disease  \n",
       "0         172   N       0.0       Up              0  \n",
       "1         156   N       1.0     Flat              1  \n",
       "2          98   N       0.0       Up              0  \n",
       "3         108   Y       1.5     Flat              1  \n",
       "4         122   N       0.0       Up              0  "
      ]
     },
     "execution_count": 20,
     "metadata": {},
     "output_type": "execute_result"
    }
   ],
   "source": [
    "df.head()"
   ]
  },
  {
   "cell_type": "code",
   "execution_count": 22,
   "id": "9c8bed89",
   "metadata": {},
   "outputs": [
    {
     "data": {
      "image/png": "[encoded data removed]",
      "text/plain": [
       "<Figure size 1080x324 with 4 Axes>"
      ]
     },
     "metadata": {
      "needs_background": "light"
     },
     "output_type": "display_data"
    }
   ],
   "source": [
    "# checking boxplots of few variables\n",
    "\n",
    "col = [\"Age\",\"Resting BP\",\"Cholesterol\",\"Maximum HR\"]\n",
    "\n",
    "plt.figure(figsize=(15,4.5))\n",
    "for i in range(len(col)):\n",
    "    plt.subplot(1,4,i+1)\n",
    "    sns.boxplot(y=df[col[i]])\n",
    "    plt.tight_layout()"
   ]
  },
  {
   "cell_type": "code",
   "execution_count": 26,
   "id": "3a9ee858",
   "metadata": {},
   "outputs": [
    {
     "data": {
      "image/png": "[encoded data removed]",
      "text/plain": [
       "<Figure size 864x360 with 2 Axes>"
      ]
     },
     "metadata": {
      "needs_background": "light"
     },
     "output_type": "display_data"
    }
   ],
   "source": [
    "# checking the correlation between the variables\n",
    "\n",
    "correlation = np.round(df.corr(),2)\n",
    "\n",
    "plt.figure(figsize=(12,5))\n",
    "sns.heatmap(correlation, annot=True, cmap=\"Blues\")\n",
    "plt.show()"
   ]
  },
  {
   "cell_type": "markdown",
   "id": "065759f7",
   "metadata": {},
   "source": [
    "----------"
   ]
  },
  {
   "cell_type": "markdown",
   "id": "fe9e7e4d",
   "metadata": {},
   "source": [
    "### Prediction Model using Random Forest."
   ]
  },
  {
   "cell_type": "code",
   "execution_count": 27,
   "id": "c94782b0",
   "metadata": {},
   "outputs": [],
   "source": [
    "# performing encoding for some variables\n",
    "\n",
    "for i in df.columns:\n",
    "    if df[i].dtype == \"object\":\n",
    "        df[i] = pd.Categorical(df[i]).codes"
   ]
  },
  {
   "cell_type": "code",
   "execution_count": 32,
   "id": "a07a87f9",
   "metadata": {},
   "outputs": [
    {
     "name": "stdout",
     "output_type": "stream",
     "text": [
      "<class 'pandas.core.frame.DataFrame'>\n",
      "RangeIndex: 918 entries, 0 to 917\n",
      "Data columns (total 12 columns):\n",
      " #   Column         Non-Null Count  Dtype  \n",
      "---  ------         --------------  -----  \n",
      " 0   Age            918 non-null    int64  \n",
      " 1   Gender         918 non-null    int8   \n",
      " 2   Chest Pain     918 non-null    int8   \n",
      " 3   Resting BP     918 non-null    int64  \n",
      " 4   Cholesterol    918 non-null    int64  \n",
      " 5   Fasting BS     918 non-null    int64  \n",
      " 6   Resting ECG    918 non-null    int8   \n",
      " 7   Maximum HR     918 non-null    int64  \n",
      " 8   EXA            918 non-null    int8   \n",
      " 9   Old Peak       918 non-null    float64\n",
      " 10  ST Slope       918 non-null    int8   \n",
      " 11  Heart Disease  918 non-null    int64  \n",
      "dtypes: float64(1), int64(6), int8(5)\n",
      "memory usage: 54.8 KB\n"
     ]
    }
   ],
   "source": [
    "# no more objects\n",
    "\n",
    "df.info()"
   ]
  },
  {
   "cell_type": "code",
   "execution_count": 33,
   "id": "a5ad32bd",
   "metadata": {},
   "outputs": [],
   "source": [
    "# dependent and independent variables\n",
    "\n",
    "X = df.drop(\"Heart Disease\", axis=1)\n",
    "Y = df.pop(\"Heart Disease\")"
   ]
  },
  {
   "cell_type": "code",
   "execution_count": 36,
   "id": "4f37ddbd",
   "metadata": {},
   "outputs": [],
   "source": [
    "# train and test data splitting\n",
    "\n",
    "x_train, x_test, y_train, y_test = train_test_split(X, Y, test_size=0.3, random_state=0)"
   ]
  },
  {
   "cell_type": "markdown",
   "id": "b39b49e4",
   "metadata": {},
   "source": [
    "---------"
   ]
  },
  {
   "cell_type": "markdown",
   "id": "4196516c",
   "metadata": {},
   "source": [
    "### Primary Objectives.\n",
    "\n",
    "- To increase the accuracy of predicting patients who might have heart disease.\n",
    "- To increase the recall/sensitivity by reducing the type-2 error."
   ]
  },
  {
   "cell_type": "markdown",
   "id": "c28a5e1a",
   "metadata": {},
   "source": [
    "### Parameters Set 1"
   ]
  },
  {
   "cell_type": "code",
   "execution_count": 39,
   "id": "d02b5124",
   "metadata": {},
   "outputs": [],
   "source": [
    "# random forest model with grid search\n",
    "# we have got 11 features\n",
    "\n",
    "RFCG = RandomForestClassifier(random_state=0)\n",
    "\n",
    "parameters = {\"max_depth\":[7,8,9],\n",
    "              \"min_samples_leaf\":[50,75,100],\n",
    "              \"min_samples_split\":[150,225,300],\n",
    "              \"n_estimators\":[100,150,200],\n",
    "              \"max_features\":[5,6,7]}"
   ]
  },
  {
   "cell_type": "code",
   "execution_count": 40,
   "id": "3c8a1ddb",
   "metadata": {},
   "outputs": [
    {
     "data": {
      "text/plain": [
       "GridSearchCV(cv=5, estimator=RandomForestClassifier(random_state=0),\n",
       "             param_grid={'max_depth': [7, 8, 9], 'max_features': [5, 6, 7],\n",
       "                         'min_samples_leaf': [50, 75, 100],\n",
       "                         'min_samples_split': [150, 225, 300],\n",
       "                         'n_estimators': [100, 150, 200]})"
      ]
     },
     "execution_count": 40,
     "metadata": {},
     "output_type": "execute_result"
    }
   ],
   "source": [
    "# grid search for the best parameters\n",
    "# lets take cross validation value as 5\n",
    "\n",
    "GRID = GridSearchCV(estimator=RFCG, param_grid=parameters, cv=5)\n",
    "GRID.fit(x_train, y_train)"
   ]
  },
  {
   "cell_type": "code",
   "execution_count": 41,
   "id": "4405e78c",
   "metadata": {},
   "outputs": [
    {
     "data": {
      "text/plain": [
       "{'max_depth': 7,\n",
       " 'max_features': 5,\n",
       " 'min_samples_leaf': 50,\n",
       " 'min_samples_split': 150,\n",
       " 'n_estimators': 200}"
      ]
     },
     "execution_count": 41,
     "metadata": {},
     "output_type": "execute_result"
    }
   ],
   "source": [
    "GRID.best_params_"
   ]
  },
  {
   "cell_type": "code",
   "execution_count": 64,
   "id": "57016440",
   "metadata": {},
   "outputs": [
    {
     "data": {
      "text/html": [
       "<div>\n",
       "<style scoped>\n",
       "    .dataframe tbody tr th:only-of-type {\n",
       "        vertical-align: middle;\n",
       "    }\n",
       "\n",
       "    .dataframe tbody tr th {\n",
       "        vertical-align: top;\n",
       "    }\n",
       "\n",
       "    .dataframe thead th {\n",
       "        text-align: right;\n",
       "    }\n",
       "</style>\n",
       "<table border=\"1\" class=\"dataframe\">\n",
       "  <thead>\n",
       "    <tr style=\"text-align: right;\">\n",
       "      <th></th>\n",
       "      <th>% Importance</th>\n",
       "    </tr>\n",
       "  </thead>\n",
       "  <tbody>\n",
       "    <tr>\n",
       "      <th>ST Slope</th>\n",
       "      <td>52.99</td>\n",
       "    </tr>\n",
       "    <tr>\n",
       "      <th>Chest Pain</th>\n",
       "      <td>20.34</td>\n",
       "    </tr>\n",
       "    <tr>\n",
       "      <th>Old Peak</th>\n",
       "      <td>9.98</td>\n",
       "    </tr>\n",
       "    <tr>\n",
       "      <th>EXA</th>\n",
       "      <td>9.79</td>\n",
       "    </tr>\n",
       "    <tr>\n",
       "      <th>Maximum HR</th>\n",
       "      <td>4.21</td>\n",
       "    </tr>\n",
       "    <tr>\n",
       "      <th>Age</th>\n",
       "      <td>1.30</td>\n",
       "    </tr>\n",
       "    <tr>\n",
       "      <th>Cholesterol</th>\n",
       "      <td>0.54</td>\n",
       "    </tr>\n",
       "    <tr>\n",
       "      <th>Resting BP</th>\n",
       "      <td>0.43</td>\n",
       "    </tr>\n",
       "    <tr>\n",
       "      <th>Fasting BS</th>\n",
       "      <td>0.26</td>\n",
       "    </tr>\n",
       "    <tr>\n",
       "      <th>Gender</th>\n",
       "      <td>0.17</td>\n",
       "    </tr>\n",
       "    <tr>\n",
       "      <th>Resting ECG</th>\n",
       "      <td>0.00</td>\n",
       "    </tr>\n",
       "  </tbody>\n",
       "</table>\n",
       "</div>"
      ],
      "text/plain": [
       "             % Importance\n",
       "ST Slope            52.99\n",
       "Chest Pain          20.34\n",
       "Old Peak             9.98\n",
       "EXA                  9.79\n",
       "Maximum HR           4.21\n",
       "Age                  1.30\n",
       "Cholesterol          0.54\n",
       "Resting BP           0.43\n",
       "Fasting BS           0.26\n",
       "Gender               0.17\n",
       "Resting ECG          0.00"
      ]
     },
     "execution_count": 64,
     "metadata": {},
     "output_type": "execute_result"
    }
   ],
   "source": [
    "# selecting the best estimator as our main model\n",
    "# features with higher importance in the model\n",
    "\n",
    "model = GRID.best_estimator_\n",
    "\n",
    "imp = np.round(model.feature_importances_*100,2)\n",
    "Importance = pd.DataFrame(imp, columns=[\"% Importance\"], index=df.columns)\n",
    "Importance.sort_values(\"% Importance\", ascending=False)"
   ]
  },
  {
   "cell_type": "code",
   "execution_count": 50,
   "id": "8ac04fb4",
   "metadata": {},
   "outputs": [
    {
     "name": "stdout",
     "output_type": "stream",
     "text": [
      "0.92\n"
     ]
    }
   ],
   "source": [
    "# predictions on training data\n",
    "\n",
    "train_prediction = model.predict(x_train)\n",
    "train_prediction_prob = model.predict_proba(x_train)\n",
    "y_train_prediction_prob = train_prediction_prob[:,1]\n",
    "\n",
    "train_auc = roc_auc_score(y_train, y_train_prediction_prob)\n",
    "print(round(train_auc,2))"
   ]
  },
  {
   "cell_type": "code",
   "execution_count": 47,
   "id": "f2c5ed75",
   "metadata": {},
   "outputs": [
    {
     "data": {
      "text/plain": [
       "array([[233,  64],\n",
       "       [ 30, 315]], dtype=int64)"
      ]
     },
     "execution_count": 47,
     "metadata": {},
     "output_type": "execute_result"
    }
   ],
   "source": [
    "# confusion matrix for training set\n",
    "\n",
    "train_cm = confusion_matrix(y_train, train_prediction)\n",
    "train_cm"
   ]
  },
  {
   "cell_type": "code",
   "execution_count": 49,
   "id": "ab2f18c2",
   "metadata": {},
   "outputs": [
    {
     "name": "stdout",
     "output_type": "stream",
     "text": [
      "              precision    recall  f1-score   support\n",
      "\n",
      "           0       0.89      0.78      0.83       297\n",
      "           1       0.83      0.91      0.87       345\n",
      "\n",
      "    accuracy                           0.85       642\n",
      "   macro avg       0.86      0.85      0.85       642\n",
      "weighted avg       0.86      0.85      0.85       642\n",
      "\n"
     ]
    }
   ],
   "source": [
    "# classification report for training set\n",
    "\n",
    "train_cr = classification_report(y_train, train_prediction)\n",
    "print(train_cr)"
   ]
  },
  {
   "cell_type": "code",
   "execution_count": 51,
   "id": "1355e2d2",
   "metadata": {},
   "outputs": [
    {
     "name": "stdout",
     "output_type": "stream",
     "text": [
      "0.88\n"
     ]
    }
   ],
   "source": [
    "# predictions on testing data\n",
    "\n",
    "test_prediction = model.predict(x_test)\n",
    "test_prediction_prob = model.predict_proba(x_test)\n",
    "y_test_prediction_prob = test_prediction_prob[:,1]\n",
    "\n",
    "test_auc = roc_auc_score(y_test, y_test_prediction_prob)\n",
    "print(round(test_auc,2))"
   ]
  },
  {
   "cell_type": "code",
   "execution_count": 52,
   "id": "0691e768",
   "metadata": {},
   "outputs": [
    {
     "data": {
      "text/plain": [
       "array([[ 82,  31],\n",
       "       [ 27, 136]], dtype=int64)"
      ]
     },
     "execution_count": 52,
     "metadata": {},
     "output_type": "execute_result"
    }
   ],
   "source": [
    "# confusion matrix for testing set\n",
    "\n",
    "test_cm = confusion_matrix(y_test, test_prediction)\n",
    "test_cm"
   ]
  },
  {
   "cell_type": "code",
   "execution_count": 53,
   "id": "fd0c2860",
   "metadata": {},
   "outputs": [
    {
     "name": "stdout",
     "output_type": "stream",
     "text": [
      "              precision    recall  f1-score   support\n",
      "\n",
      "           0       0.75      0.73      0.74       113\n",
      "           1       0.81      0.83      0.82       163\n",
      "\n",
      "    accuracy                           0.79       276\n",
      "   macro avg       0.78      0.78      0.78       276\n",
      "weighted avg       0.79      0.79      0.79       276\n",
      "\n"
     ]
    }
   ],
   "source": [
    "# classification report for training set\n",
    "\n",
    "test_cr = classification_report(y_test, test_prediction)\n",
    "print(test_cr)"
   ]
  },
  {
   "cell_type": "code",
   "execution_count": 57,
   "id": "cd8c2e43",
   "metadata": {},
   "outputs": [
    {
     "data": {
      "image/png": "[encoded data removed]",
      "text/plain": [
       "<Figure size 1080x612 with 1 Axes>"
      ]
     },
     "metadata": {},
     "output_type": "display_data"
    }
   ],
   "source": [
    "# roc curve for both training and testing data predictions\n",
    "\n",
    "train_fpr, train_tpr, train_t = roc_curve(y_train, y_train_prediction_prob)\n",
    "test_fpr, test_tpr, test_t = roc_curve(y_test, y_test_prediction_prob)\n",
    "\n",
    "with plt.style.context(\"seaborn-whitegrid\"):\n",
    "    plt.figure(figsize=(15,8.5))\n",
    "    sns.lineplot(train_fpr, train_tpr, marker=\"o\")\n",
    "    sns.lineplot(test_fpr, test_tpr, marker=\"o\")\n",
    "    sns.lineplot([0,1], [0,1], linestyle=\"--\")    \n",
    "    plt.xlabel(\"False Positive Rate\", fontsize=15)\n",
    "    plt.ylabel(\"True Positive Rate\", fontsize=15)\n",
    "    plt.show()"
   ]
  },
  {
   "cell_type": "markdown",
   "id": "154fd751",
   "metadata": {},
   "source": [
    "------"
   ]
  },
  {
   "cell_type": "code",
   "execution_count": null,
   "id": "3167fa6f",
   "metadata": {},
   "outputs": [],
   "source": []
  }
 ],
 "metadata": {
  "kernelspec": {
   "display_name": "Python 3 (ipykernel)",
   "language": "python",
   "name": "python3"
  },
  "language_info": {
   "codemirror_mode": {
    "name": "ipython",
    "version": 3
   },
   "file_extension": ".py",
   "mimetype": "text/x-python",
   "name": "python",
   "nbconvert_exporter": "python",
   "pygments_lexer": "ipython3",
   "version": "3.8.12"
  }
 },
 "nbformat": 4,
 "nbformat_minor": 5
}
