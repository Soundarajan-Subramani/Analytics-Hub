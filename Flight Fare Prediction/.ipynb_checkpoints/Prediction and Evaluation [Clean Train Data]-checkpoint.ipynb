{
 "cells": [
  {
   "cell_type": "code",
   "execution_count": 1,
   "id": "a302b5d4",
   "metadata": {},
   "outputs": [],
   "source": [
    "import numpy as np\n",
    "import pandas as pd"
   ]
  },
  {
   "cell_type": "code",
   "execution_count": 2,
   "id": "86ef252e",
   "metadata": {},
   "outputs": [],
   "source": [
    "import datetime\n",
    "from scipy.stats import zscore\n",
    "from sklearn.impute import SimpleImputer\n",
    "import math"
   ]
  },
  {
   "cell_type": "code",
   "execution_count": 3,
   "id": "2c916aa8",
   "metadata": {},
   "outputs": [],
   "source": [
    "from sklearn.model_selection import GridSearchCV\n",
    "from sklearn.model_selection import train_test_split\n",
    "from time import time"
   ]
  },
  {
   "cell_type": "code",
   "execution_count": 4,
   "id": "e10da514",
   "metadata": {},
   "outputs": [],
   "source": [
    "import statsmodels.formula.api as smf\n",
    "from sklearn.tree import DecisionTreeRegressor\n",
    "from sklearn.linear_model import LinearRegression\n",
    "from sklearn.ensemble import RandomForestRegressor\n",
    "from sklearn.neural_network import MLPRegressor\n",
    "from sklearn.linear_model import Ridge\n",
    "from sklearn.linear_model import Lasso"
   ]
  },
  {
   "cell_type": "code",
   "execution_count": 14,
   "id": "158d0617",
   "metadata": {},
   "outputs": [],
   "source": [
    "from sklearn.metrics import mean_squared_error as mse\n",
    "from sklearn.metrics import mean_absolute_error as mae"
   ]
  },
  {
   "cell_type": "code",
   "execution_count": 6,
   "id": "b21792d3",
   "metadata": {},
   "outputs": [],
   "source": [
    "import seaborn as sns\n",
    "import matplotlib.pyplot as plt\n",
    "%matplotlib inline"
   ]
  },
  {
   "cell_type": "code",
   "execution_count": 7,
   "id": "34367e8b",
   "metadata": {},
   "outputs": [],
   "source": [
    "from warnings import filterwarnings\n",
    "filterwarnings('ignore')"
   ]
  },
  {
   "cell_type": "code",
   "execution_count": 8,
   "id": "bbf450da",
   "metadata": {},
   "outputs": [
    {
     "data": {
      "text/html": [
       "<div>\n",
       "<style scoped>\n",
       "    .dataframe tbody tr th:only-of-type {\n",
       "        vertical-align: middle;\n",
       "    }\n",
       "\n",
       "    .dataframe tbody tr th {\n",
       "        vertical-align: top;\n",
       "    }\n",
       "\n",
       "    .dataframe thead th {\n",
       "        text-align: right;\n",
       "    }\n",
       "</style>\n",
       "<table border=\"1\" class=\"dataframe\">\n",
       "  <thead>\n",
       "    <tr style=\"text-align: right;\">\n",
       "      <th></th>\n",
       "      <th>airline</th>\n",
       "      <th>source</th>\n",
       "      <th>destination</th>\n",
       "      <th>route</th>\n",
       "      <th>duration</th>\n",
       "      <th>total_stops</th>\n",
       "      <th>add_info</th>\n",
       "      <th>price</th>\n",
       "      <th>day</th>\n",
       "      <th>month</th>\n",
       "      <th>day_part</th>\n",
       "    </tr>\n",
       "  </thead>\n",
       "  <tbody>\n",
       "    <tr>\n",
       "      <th>0</th>\n",
       "      <td>3</td>\n",
       "      <td>0</td>\n",
       "      <td>2</td>\n",
       "      <td>18</td>\n",
       "      <td>170</td>\n",
       "      <td>4</td>\n",
       "      <td>8</td>\n",
       "      <td>3897</td>\n",
       "      <td>24</td>\n",
       "      <td>3</td>\n",
       "      <td>0</td>\n",
       "    </tr>\n",
       "    <tr>\n",
       "      <th>1</th>\n",
       "      <td>1</td>\n",
       "      <td>3</td>\n",
       "      <td>0</td>\n",
       "      <td>84</td>\n",
       "      <td>445</td>\n",
       "      <td>1</td>\n",
       "      <td>8</td>\n",
       "      <td>7662</td>\n",
       "      <td>5</td>\n",
       "      <td>1</td>\n",
       "      <td>1</td>\n",
       "    </tr>\n",
       "    <tr>\n",
       "      <th>2</th>\n",
       "      <td>4</td>\n",
       "      <td>2</td>\n",
       "      <td>1</td>\n",
       "      <td>118</td>\n",
       "      <td>1140</td>\n",
       "      <td>1</td>\n",
       "      <td>8</td>\n",
       "      <td>13882</td>\n",
       "      <td>6</td>\n",
       "      <td>9</td>\n",
       "      <td>1</td>\n",
       "    </tr>\n",
       "    <tr>\n",
       "      <th>3</th>\n",
       "      <td>3</td>\n",
       "      <td>3</td>\n",
       "      <td>0</td>\n",
       "      <td>91</td>\n",
       "      <td>325</td>\n",
       "      <td>0</td>\n",
       "      <td>8</td>\n",
       "      <td>6218</td>\n",
       "      <td>5</td>\n",
       "      <td>12</td>\n",
       "      <td>3</td>\n",
       "    </tr>\n",
       "    <tr>\n",
       "      <th>4</th>\n",
       "      <td>3</td>\n",
       "      <td>0</td>\n",
       "      <td>2</td>\n",
       "      <td>29</td>\n",
       "      <td>285</td>\n",
       "      <td>0</td>\n",
       "      <td>8</td>\n",
       "      <td>13302</td>\n",
       "      <td>3</td>\n",
       "      <td>1</td>\n",
       "      <td>2</td>\n",
       "    </tr>\n",
       "    <tr>\n",
       "      <th>5</th>\n",
       "      <td>8</td>\n",
       "      <td>3</td>\n",
       "      <td>0</td>\n",
       "      <td>64</td>\n",
       "      <td>145</td>\n",
       "      <td>4</td>\n",
       "      <td>8</td>\n",
       "      <td>3873</td>\n",
       "      <td>24</td>\n",
       "      <td>6</td>\n",
       "      <td>1</td>\n",
       "    </tr>\n",
       "    <tr>\n",
       "      <th>6</th>\n",
       "      <td>4</td>\n",
       "      <td>0</td>\n",
       "      <td>2</td>\n",
       "      <td>5</td>\n",
       "      <td>930</td>\n",
       "      <td>0</td>\n",
       "      <td>5</td>\n",
       "      <td>11087</td>\n",
       "      <td>3</td>\n",
       "      <td>12</td>\n",
       "      <td>3</td>\n",
       "    </tr>\n",
       "    <tr>\n",
       "      <th>7</th>\n",
       "      <td>4</td>\n",
       "      <td>0</td>\n",
       "      <td>2</td>\n",
       "      <td>5</td>\n",
       "      <td>1265</td>\n",
       "      <td>0</td>\n",
       "      <td>8</td>\n",
       "      <td>22270</td>\n",
       "      <td>3</td>\n",
       "      <td>1</td>\n",
       "      <td>1</td>\n",
       "    </tr>\n",
       "    <tr>\n",
       "      <th>8</th>\n",
       "      <td>4</td>\n",
       "      <td>0</td>\n",
       "      <td>2</td>\n",
       "      <td>5</td>\n",
       "      <td>1530</td>\n",
       "      <td>0</td>\n",
       "      <td>5</td>\n",
       "      <td>11087</td>\n",
       "      <td>3</td>\n",
       "      <td>12</td>\n",
       "      <td>1</td>\n",
       "    </tr>\n",
       "    <tr>\n",
       "      <th>9</th>\n",
       "      <td>6</td>\n",
       "      <td>2</td>\n",
       "      <td>1</td>\n",
       "      <td>104</td>\n",
       "      <td>470</td>\n",
       "      <td>0</td>\n",
       "      <td>8</td>\n",
       "      <td>8625</td>\n",
       "      <td>27</td>\n",
       "      <td>5</td>\n",
       "      <td>1</td>\n",
       "    </tr>\n",
       "  </tbody>\n",
       "</table>\n",
       "</div>"
      ],
      "text/plain": [
       "   airline  source  destination  route  duration  total_stops  add_info  \\\n",
       "0        3       0            2     18       170            4         8   \n",
       "1        1       3            0     84       445            1         8   \n",
       "2        4       2            1    118      1140            1         8   \n",
       "3        3       3            0     91       325            0         8   \n",
       "4        3       0            2     29       285            0         8   \n",
       "5        8       3            0     64       145            4         8   \n",
       "6        4       0            2      5       930            0         5   \n",
       "7        4       0            2      5      1265            0         8   \n",
       "8        4       0            2      5      1530            0         5   \n",
       "9        6       2            1    104       470            0         8   \n",
       "\n",
       "   price  day  month  day_part  \n",
       "0   3897   24      3         0  \n",
       "1   7662    5      1         1  \n",
       "2  13882    6      9         1  \n",
       "3   6218    5     12         3  \n",
       "4  13302    3      1         2  \n",
       "5   3873   24      6         1  \n",
       "6  11087    3     12         3  \n",
       "7  22270    3      1         1  \n",
       "8  11087    3     12         1  \n",
       "9   8625   27      5         1  "
      ]
     },
     "execution_count": 8,
     "metadata": {},
     "output_type": "execute_result"
    }
   ],
   "source": [
    "df = pd.read_csv(\"clean_train_data.csv\")\n",
    "df.head(10)"
   ]
  },
  {
   "cell_type": "code",
   "execution_count": 9,
   "id": "7989ed51",
   "metadata": {},
   "outputs": [
    {
     "name": "stdout",
     "output_type": "stream",
     "text": [
      "<class 'pandas.core.frame.DataFrame'>\n",
      "RangeIndex: 10463 entries, 0 to 10462\n",
      "Data columns (total 11 columns):\n",
      " #   Column       Non-Null Count  Dtype\n",
      "---  ------       --------------  -----\n",
      " 0   airline      10463 non-null  int64\n",
      " 1   source       10463 non-null  int64\n",
      " 2   destination  10463 non-null  int64\n",
      " 3   route        10463 non-null  int64\n",
      " 4   duration     10463 non-null  int64\n",
      " 5   total_stops  10463 non-null  int64\n",
      " 6   add_info     10463 non-null  int64\n",
      " 7   price        10463 non-null  int64\n",
      " 8   day          10463 non-null  int64\n",
      " 9   month        10463 non-null  int64\n",
      " 10  day_part     10463 non-null  int64\n",
      "dtypes: int64(11)\n",
      "memory usage: 899.3 KB\n"
     ]
    }
   ],
   "source": [
    "df.info()"
   ]
  },
  {
   "cell_type": "markdown",
   "id": "c7fb59ff",
   "metadata": {},
   "source": [
    "### Modelling Prerequisites"
   ]
  },
  {
   "cell_type": "code",
   "execution_count": 10,
   "id": "e6708bea",
   "metadata": {},
   "outputs": [],
   "source": [
    "# dependent and independent variables\n",
    "\n",
    "x = df.drop(\"price\", axis=1)\n",
    "y = df[\"price\"]"
   ]
  },
  {
   "cell_type": "code",
   "execution_count": 11,
   "id": "eb94d415",
   "metadata": {},
   "outputs": [
    {
     "name": "stdout",
     "output_type": "stream",
     "text": [
      "No.of.records in train data: 7324\n",
      "No.of.records in test data: 3139\n"
     ]
    }
   ],
   "source": [
    "# train and test splits\n",
    "x_train, x_test, y_train, y_test = train_test_split(x, y, test_size=0.3, random_state=1)\n",
    "\n",
    "# checking the train and test record counts\n",
    "print(\"No.of.records in train data: {}\".format(x_train.shape[0]))\n",
    "print(\"No.of.records in test data: {}\".format(x_test.shape[0]))"
   ]
  },
  {
   "cell_type": "code",
   "execution_count": 12,
   "id": "61b6bfac",
   "metadata": {},
   "outputs": [],
   "source": [
    "# let's scale the data for ANN Regressor\n",
    "\n",
    "x_train_sc = x_train.apply(zscore)\n",
    "x_test_sc = x_test.apply(zscore)"
   ]
  },
  {
   "cell_type": "code",
   "execution_count": 13,
   "id": "db92d39e",
   "metadata": {},
   "outputs": [],
   "source": [
    "# constructing different models\n",
    "\n",
    "annm = MLPRegressor(hidden_layer_sizes=(500), max_iter=5000, random_state=123)\n",
    "rfrm = RandomForestRegressor(random_state=123)\n",
    "dtrm = DecisionTreeRegressor(random_state=123)\n",
    "lirm = LinearRegression()"
   ]
  },
  {
   "cell_type": "code",
   "execution_count": 29,
   "id": "92e19739",
   "metadata": {},
   "outputs": [
    {
     "name": "stdout",
     "output_type": "stream",
     "text": [
      "Training Data------------------------\n",
      "\n",
      "Model Score: 0.99\n",
      "RMSE Value : 360.98\n",
      "MAPE Value : 71.47\n",
      "\n",
      "\n",
      "Testing Data-------------------------\n",
      "\n",
      "Model Score: 0.78\n",
      "RMSE Value : 2081.09\n",
      "MAPE Value : 831.54\n"
     ]
    }
   ],
   "source": [
    "# decision tree regressor-------------------------------------(raw model)\n",
    "\n",
    "model = DecisionTreeRegressor(random_state=1).fit(x_train,y_train)\n",
    "\n",
    "# evaluation metrics-----------------------------------------------------\n",
    "\n",
    "train_score = model.score(x_train,y_train)\n",
    "test_score  = model.score(x_test,y_test)\n",
    "\n",
    "train_predictions = model.predict(x_train)\n",
    "test_predictions  = model.predict(x_test)\n",
    "\n",
    "train_rmse = np.sqrt(mse(y_train,train_predictions))\n",
    "test_rmse  = np.sqrt(mse(y_test,test_predictions))\n",
    "\n",
    "train_mae = mae(y_train,train_predictions)\n",
    "test_mae  = mae(y_test,test_predictions)\n",
    "\n",
    "print(\"Training Data------------------------\")\n",
    "print(\"\")\n",
    "print(\"Model Score: {}\".format(round(train_score,2)))\n",
    "print(\"RMSE Value : {}\".format(round(train_rmse,2)))\n",
    "print(\"MAPE Value : {}\".format(round(train_mae,2)))\n",
    "print(\"\\n\")\n",
    "print(\"Testing Data-------------------------\")\n",
    "print(\"\")\n",
    "print(\"Model Score: {}\".format(round(test_score,2)))\n",
    "print(\"RMSE Value : {}\".format(round(test_rmse,2)))\n",
    "print(\"MAPE Value : {}\".format(round(test_mae,2)))"
   ]
  },
  {
   "cell_type": "code",
   "execution_count": 34,
   "id": "c81c43a4",
   "metadata": {},
   "outputs": [
    {
     "name": "stdout",
     "output_type": "stream",
     "text": [
      "Training Data------------------------\n",
      "\n",
      "Model Score: 0.98\n",
      "RMSE Value : 721.51\n",
      "MAPE Value : 307.37\n",
      "\n",
      "\n",
      "Testing Data-------------------------\n",
      "\n",
      "Model Score: 0.86\n",
      "RMSE Value : 1700.7\n",
      "MAPE Value : 748.57\n"
     ]
    }
   ],
   "source": [
    "# random forest regressor-------------------------------------(raw model)\n",
    "\n",
    "model = RandomForestRegressor(random_state=1).fit(x_train,y_train)\n",
    "\n",
    "# evaluation metrics-----------------------------------------------------\n",
    "\n",
    "train_score = model.score(x_train,y_train)\n",
    "test_score  = model.score(x_test,y_test)\n",
    "\n",
    "train_predictions = model.predict(x_train)\n",
    "test_predictions  = model.predict(x_test)\n",
    "\n",
    "train_rmse = np.sqrt(mse(y_train,train_predictions))\n",
    "test_rmse  = np.sqrt(mse(y_test,test_predictions))\n",
    "\n",
    "train_mae = mae(y_train,train_predictions)\n",
    "test_mae  = mae(y_test,test_predictions)\n",
    "\n",
    "print(\"Training Data------------------------\")\n",
    "print(\"\")\n",
    "print(\"Model Score: {}\".format(round(train_score,2)))\n",
    "print(\"RMSE Value : {}\".format(round(train_rmse,2)))\n",
    "print(\"MAPE Value : {}\".format(round(train_mae,2)))\n",
    "print(\"\\n\")\n",
    "print(\"Testing Data-------------------------\")\n",
    "print(\"\")\n",
    "print(\"Model Score: {}\".format(round(test_score,2)))\n",
    "print(\"RMSE Value : {}\".format(round(test_rmse,2)))\n",
    "print(\"MAPE Value : {}\".format(round(test_mae,2)))"
   ]
  },
  {
   "cell_type": "code",
   "execution_count": 37,
   "id": "9def0e97",
   "metadata": {},
   "outputs": [
    {
     "name": "stdout",
     "output_type": "stream",
     "text": [
      "Training Data------------------------\n",
      "\n",
      "Model Score: 0.4\n",
      "RMSE Value : 3641.48\n",
      "MAPE Value : 2546.54\n",
      "\n",
      "\n",
      "Testing Data-------------------------\n",
      "\n",
      "Model Score: 0.44\n",
      "RMSE Value : 3350.73\n",
      "MAPE Value : 2461.23\n"
     ]
    }
   ],
   "source": [
    "# linear regressor--------------------------------------------(raw model)\n",
    "\n",
    "model = LinearRegression().fit(x_train,y_train)\n",
    "\n",
    "# evaluation metrics-----------------------------------------------------\n",
    "\n",
    "train_score = model.score(x_train,y_train)\n",
    "test_score  = model.score(x_test,y_test)\n",
    "\n",
    "train_predictions = model.predict(x_train)\n",
    "test_predictions  = model.predict(x_test)\n",
    "\n",
    "train_rmse = np.sqrt(mse(y_train,train_predictions))\n",
    "test_rmse  = np.sqrt(mse(y_test,test_predictions))\n",
    "\n",
    "train_mae = mae(y_train,train_predictions)\n",
    "test_mae  = mae(y_test,test_predictions)\n",
    "\n",
    "print(\"Training Data------------------------\")\n",
    "print(\"\")\n",
    "print(\"Model Score: {}\".format(round(train_score,2)))\n",
    "print(\"RMSE Value : {}\".format(round(train_rmse,2)))\n",
    "print(\"MAPE Value : {}\".format(round(train_mae,2)))\n",
    "print(\"\\n\")\n",
    "print(\"Testing Data-------------------------\")\n",
    "print(\"\")\n",
    "print(\"Model Score: {}\".format(round(test_score,2)))\n",
    "print(\"RMSE Value : {}\".format(round(test_rmse,2)))\n",
    "print(\"MAPE Value : {}\".format(round(test_mae,2)))"
   ]
  },
  {
   "cell_type": "code",
   "execution_count": 38,
   "id": "4fa65ad1",
   "metadata": {},
   "outputs": [
    {
     "name": "stdout",
     "output_type": "stream",
     "text": [
      "Training Data------------------------\n",
      "\n",
      "Model Score: 0.41\n",
      "RMSE Value : 3586.45\n",
      "MAPE Value : 2550.03\n",
      "\n",
      "\n",
      "Testing Data-------------------------\n",
      "\n",
      "Model Score: 0.45\n",
      "RMSE Value : 3317.62\n",
      "MAPE Value : 2469.23\n"
     ]
    }
   ],
   "source": [
    "# ann regressor-----------------------------------------------(raw model)\n",
    "\n",
    "model = MLPRegressor(hidden_layer_sizes=(500), random_state=1).fit(x_train_sc,y_train)\n",
    "\n",
    "# evaluation metrics-----------------------------------------------------\n",
    "\n",
    "train_score = model.score(x_train_sc,y_train)\n",
    "test_score  = model.score(x_test_sc,y_test)\n",
    "\n",
    "train_predictions = model.predict(x_train_sc)\n",
    "test_predictions  = model.predict(x_test_sc)\n",
    "\n",
    "train_rmse = np.sqrt(mse(y_train,train_predictions))\n",
    "test_rmse  = np.sqrt(mse(y_test,test_predictions))\n",
    "\n",
    "train_mae = mae(y_train,train_predictions)\n",
    "test_mae  = mae(y_test,test_predictions)\n",
    "\n",
    "print(\"Training Data------------------------\")\n",
    "print(\"\")\n",
    "print(\"Model Score: {}\".format(round(train_score,2)))\n",
    "print(\"RMSE Value : {}\".format(round(train_rmse,2)))\n",
    "print(\"MAPE Value : {}\".format(round(train_mae,2)))\n",
    "print(\"\\n\")\n",
    "print(\"Testing Data-------------------------\")\n",
    "print(\"\")\n",
    "print(\"Model Score: {}\".format(round(test_score,2)))\n",
    "print(\"RMSE Value : {}\".format(round(test_rmse,2)))\n",
    "print(\"MAPE Value : {}\".format(round(test_mae,2)))"
   ]
  },
  {
   "cell_type": "code",
   "execution_count": 45,
   "id": "bae61dec",
   "metadata": {},
   "outputs": [],
   "source": [
    "# tweaking random forest model\n",
    "\n",
    "model = model = RandomForestRegressor(random_state=1)\n",
    "parameters = {\"max_depth\":[10,15], \"max_features\":[5,6], \"n_estimators\":[100,200]}\n",
    "\n",
    "grid = GridSearchCV(estimator=model, param_grid=parameters, cv=5).fit(x_train,y_train)"
   ]
  },
  {
   "cell_type": "code",
   "execution_count": 46,
   "id": "b9ace29c",
   "metadata": {},
   "outputs": [
    {
     "data": {
      "text/plain": [
       "{'max_depth': 15, 'max_features': 5, 'n_estimators': 100}"
      ]
     },
     "execution_count": 46,
     "metadata": {},
     "output_type": "execute_result"
    }
   ],
   "source": [
    "grid.best_params_"
   ]
  },
  {
   "cell_type": "code",
   "execution_count": 47,
   "id": "337675a7",
   "metadata": {},
   "outputs": [
    {
     "name": "stdout",
     "output_type": "stream",
     "text": [
      "Training Data------------------------\n",
      "\n",
      "Model Score: 0.96\n",
      "RMSE Value : 909.82\n",
      "MAPE Value : 482.54\n",
      "\n",
      "\n",
      "Testing Data-------------------------\n",
      "\n",
      "Model Score: 0.88\n",
      "RMSE Value : 1538.68\n",
      "MAPE Value : 798.55\n"
     ]
    }
   ],
   "source": [
    "# random forest regressor----------------------------------(tweaked model)\n",
    "\n",
    "model = grid.best_estimator_.fit(x_train,y_train)\n",
    "\n",
    "# evaluation metrics-----------------------------------------------------\n",
    "\n",
    "train_score = model.score(x_train,y_train)\n",
    "test_score  = model.score(x_test,y_test)\n",
    "\n",
    "train_predictions = model.predict(x_train)\n",
    "test_predictions  = model.predict(x_test)\n",
    "\n",
    "train_rmse = np.sqrt(mse(y_train,train_predictions))\n",
    "test_rmse  = np.sqrt(mse(y_test,test_predictions))\n",
    "\n",
    "train_mae = mae(y_train,train_predictions)\n",
    "test_mae  = mae(y_test,test_predictions)\n",
    "\n",
    "print(\"Training Data------------------------\")\n",
    "print(\"\")\n",
    "print(\"Model Score: {}\".format(round(train_score,2)))\n",
    "print(\"RMSE Value : {}\".format(round(train_rmse,2)))\n",
    "print(\"MAPE Value : {}\".format(round(train_mae,2)))\n",
    "print(\"\\n\")\n",
    "print(\"Testing Data-------------------------\")\n",
    "print(\"\")\n",
    "print(\"Model Score: {}\".format(round(test_score,2)))\n",
    "print(\"RMSE Value : {}\".format(round(test_rmse,2)))\n",
    "print(\"MAPE Value : {}\".format(round(test_mae,2)))"
   ]
  },
  {
   "cell_type": "code",
   "execution_count": null,
   "id": "ba690f40",
   "metadata": {},
   "outputs": [],
   "source": []
  }
 ],
 "metadata": {
  "kernelspec": {
   "display_name": "Python 3 (ipykernel)",
   "language": "python",
   "name": "python3"
  },
  "language_info": {
   "codemirror_mode": {
    "name": "ipython",
    "version": 3
   },
   "file_extension": ".py",
   "mimetype": "text/x-python",
   "name": "python",
   "nbconvert_exporter": "python",
   "pygments_lexer": "ipython3",
   "version": "3.8.12"
  }
 },
 "nbformat": 4,
 "nbformat_minor": 5
}
