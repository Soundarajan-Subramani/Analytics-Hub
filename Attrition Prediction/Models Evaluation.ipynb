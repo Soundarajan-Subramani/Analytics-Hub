{
 "cells": [
  {
   "cell_type": "code",
   "execution_count": 1,
   "id": "2ef7cc21",
   "metadata": {},
   "outputs": [],
   "source": [
    "import numpy as np\n",
    "import pandas as pd"
   ]
  },
  {
   "cell_type": "code",
   "execution_count": 2,
   "id": "4479d4e4",
   "metadata": {},
   "outputs": [],
   "source": [
    "from scipy.stats import zscore\n",
    "from sklearn.impute import SimpleImputer"
   ]
  },
  {
   "cell_type": "code",
   "execution_count": 3,
   "id": "c289054e",
   "metadata": {},
   "outputs": [],
   "source": [
    "from sklearn.model_selection import GridSearchCV\n",
    "from sklearn.model_selection import train_test_split"
   ]
  },
  {
   "cell_type": "code",
   "execution_count": 4,
   "id": "848ea9cf",
   "metadata": {},
   "outputs": [],
   "source": [
    "# models------------------------------------------------------------\n",
    "from sklearn.discriminant_analysis import LinearDiscriminantAnalysis\n",
    "from sklearn.ensemble import GradientBoostingClassifier\n",
    "from sklearn.ensemble import RandomForestClassifier\n",
    "from sklearn.linear_model import LogisticRegression\n",
    "from sklearn.neighbors import KNeighborsClassifier\n",
    "from sklearn.neural_network import MLPClassifier\n",
    "from sklearn.ensemble import AdaBoostClassifier\n",
    "from sklearn.tree import DecisionTreeClassifier\n",
    "from sklearn.ensemble import BaggingClassifier\n",
    "from sklearn.naive_bayes import GaussianNB"
   ]
  },
  {
   "cell_type": "code",
   "execution_count": 5,
   "id": "2e554576",
   "metadata": {},
   "outputs": [],
   "source": [
    "from sklearn.metrics import accuracy_score\n",
    "from sklearn.metrics import f1_score"
   ]
  },
  {
   "cell_type": "code",
   "execution_count": 6,
   "id": "f233d072",
   "metadata": {},
   "outputs": [],
   "source": [
    "import seaborn as sns\n",
    "import matplotlib.pyplot as plt\n",
    "%matplotlib inline"
   ]
  },
  {
   "cell_type": "code",
   "execution_count": 7,
   "id": "3efca7b4",
   "metadata": {},
   "outputs": [],
   "source": [
    "from warnings import filterwarnings\n",
    "filterwarnings('ignore')"
   ]
  },
  {
   "cell_type": "code",
   "execution_count": 8,
   "id": "6b5d76d9",
   "metadata": {},
   "outputs": [
    {
     "data": {
      "text/html": [
       "<div>\n",
       "<style scoped>\n",
       "    .dataframe tbody tr th:only-of-type {\n",
       "        vertical-align: middle;\n",
       "    }\n",
       "\n",
       "    .dataframe tbody tr th {\n",
       "        vertical-align: top;\n",
       "    }\n",
       "\n",
       "    .dataframe thead th {\n",
       "        text-align: right;\n",
       "    }\n",
       "</style>\n",
       "<table border=\"1\" class=\"dataframe\">\n",
       "  <thead>\n",
       "    <tr style=\"text-align: right;\">\n",
       "      <th></th>\n",
       "      <th>EmployeeID</th>\n",
       "      <th>Attrition</th>\n",
       "      <th>Age</th>\n",
       "      <th>TravelProfile</th>\n",
       "      <th>Department</th>\n",
       "      <th>HomeToWork</th>\n",
       "      <th>EducationField</th>\n",
       "      <th>Gender</th>\n",
       "      <th>HourlnWeek</th>\n",
       "      <th>Involvement</th>\n",
       "      <th>...</th>\n",
       "      <th>JobSatisfaction</th>\n",
       "      <th>ESOPs</th>\n",
       "      <th>NumCompaniesWorked</th>\n",
       "      <th>OverTime</th>\n",
       "      <th>SalaryHikelastYear</th>\n",
       "      <th>WorkExperience</th>\n",
       "      <th>LastPromotion</th>\n",
       "      <th>CurrentProfile</th>\n",
       "      <th>MaritalStatus</th>\n",
       "      <th>MonthlyIncome</th>\n",
       "    </tr>\n",
       "  </thead>\n",
       "  <tbody>\n",
       "    <tr>\n",
       "      <th>0</th>\n",
       "      <td>5110001</td>\n",
       "      <td>0</td>\n",
       "      <td>35</td>\n",
       "      <td>1</td>\n",
       "      <td>0</td>\n",
       "      <td>5</td>\n",
       "      <td>0</td>\n",
       "      <td>1</td>\n",
       "      <td>69.0</td>\n",
       "      <td>1</td>\n",
       "      <td>...</td>\n",
       "      <td>1</td>\n",
       "      <td>1</td>\n",
       "      <td>1</td>\n",
       "      <td>1</td>\n",
       "      <td>20.0</td>\n",
       "      <td>7</td>\n",
       "      <td>2</td>\n",
       "      <td>3</td>\n",
       "      <td>1</td>\n",
       "      <td>18932.0</td>\n",
       "    </tr>\n",
       "    <tr>\n",
       "      <th>1</th>\n",
       "      <td>5110002</td>\n",
       "      <td>1</td>\n",
       "      <td>32</td>\n",
       "      <td>2</td>\n",
       "      <td>2</td>\n",
       "      <td>5</td>\n",
       "      <td>5</td>\n",
       "      <td>0</td>\n",
       "      <td>62.0</td>\n",
       "      <td>4</td>\n",
       "      <td>...</td>\n",
       "      <td>2</td>\n",
       "      <td>0</td>\n",
       "      <td>8</td>\n",
       "      <td>0</td>\n",
       "      <td>20.0</td>\n",
       "      <td>4</td>\n",
       "      <td>1</td>\n",
       "      <td>3</td>\n",
       "      <td>2</td>\n",
       "      <td>18785.0</td>\n",
       "    </tr>\n",
       "    <tr>\n",
       "      <th>2</th>\n",
       "      <td>5110003</td>\n",
       "      <td>0</td>\n",
       "      <td>31</td>\n",
       "      <td>1</td>\n",
       "      <td>0</td>\n",
       "      <td>5</td>\n",
       "      <td>5</td>\n",
       "      <td>0</td>\n",
       "      <td>45.0</td>\n",
       "      <td>5</td>\n",
       "      <td>...</td>\n",
       "      <td>2</td>\n",
       "      <td>1</td>\n",
       "      <td>3</td>\n",
       "      <td>0</td>\n",
       "      <td>26.0</td>\n",
       "      <td>12</td>\n",
       "      <td>1</td>\n",
       "      <td>3</td>\n",
       "      <td>2</td>\n",
       "      <td>22091.0</td>\n",
       "    </tr>\n",
       "    <tr>\n",
       "      <th>3</th>\n",
       "      <td>5110004</td>\n",
       "      <td>0</td>\n",
       "      <td>34</td>\n",
       "      <td>2</td>\n",
       "      <td>2</td>\n",
       "      <td>10</td>\n",
       "      <td>5</td>\n",
       "      <td>0</td>\n",
       "      <td>32.0</td>\n",
       "      <td>3</td>\n",
       "      <td>...</td>\n",
       "      <td>4</td>\n",
       "      <td>1</td>\n",
       "      <td>1</td>\n",
       "      <td>0</td>\n",
       "      <td>23.0</td>\n",
       "      <td>5</td>\n",
       "      <td>1</td>\n",
       "      <td>3</td>\n",
       "      <td>0</td>\n",
       "      <td>20302.0</td>\n",
       "    </tr>\n",
       "    <tr>\n",
       "      <th>4</th>\n",
       "      <td>5110005</td>\n",
       "      <td>0</td>\n",
       "      <td>37</td>\n",
       "      <td>0</td>\n",
       "      <td>0</td>\n",
       "      <td>27</td>\n",
       "      <td>5</td>\n",
       "      <td>0</td>\n",
       "      <td>49.0</td>\n",
       "      <td>3</td>\n",
       "      <td>...</td>\n",
       "      <td>4</td>\n",
       "      <td>1</td>\n",
       "      <td>8</td>\n",
       "      <td>0</td>\n",
       "      <td>21.0</td>\n",
       "      <td>12</td>\n",
       "      <td>1</td>\n",
       "      <td>9</td>\n",
       "      <td>0</td>\n",
       "      <td>21674.0</td>\n",
       "    </tr>\n",
       "  </tbody>\n",
       "</table>\n",
       "<p>5 rows × 22 columns</p>\n",
       "</div>"
      ],
      "text/plain": [
       "   EmployeeID  Attrition  Age  TravelProfile  Department  HomeToWork  \\\n",
       "0     5110001          0   35              1           0           5   \n",
       "1     5110002          1   32              2           2           5   \n",
       "2     5110003          0   31              1           0           5   \n",
       "3     5110004          0   34              2           2          10   \n",
       "4     5110005          0   37              0           0          27   \n",
       "\n",
       "   EducationField  Gender  HourlnWeek  Involvement  ...  JobSatisfaction  \\\n",
       "0               0       1        69.0            1  ...                1   \n",
       "1               5       0        62.0            4  ...                2   \n",
       "2               5       0        45.0            5  ...                2   \n",
       "3               5       0        32.0            3  ...                4   \n",
       "4               5       0        49.0            3  ...                4   \n",
       "\n",
       "   ESOPs  NumCompaniesWorked  OverTime  SalaryHikelastYear  WorkExperience  \\\n",
       "0      1                   1         1                20.0               7   \n",
       "1      0                   8         0                20.0               4   \n",
       "2      1                   3         0                26.0              12   \n",
       "3      1                   1         0                23.0               5   \n",
       "4      1                   8         0                21.0              12   \n",
       "\n",
       "   LastPromotion  CurrentProfile  MaritalStatus  MonthlyIncome  \n",
       "0              2               3              1        18932.0  \n",
       "1              1               3              2        18785.0  \n",
       "2              1               3              2        22091.0  \n",
       "3              1               3              0        20302.0  \n",
       "4              1               9              0        21674.0  \n",
       "\n",
       "[5 rows x 22 columns]"
      ]
     },
     "execution_count": 8,
     "metadata": {},
     "output_type": "execute_result"
    }
   ],
   "source": [
    "df = pd.read_csv(\"clean_train_data.csv\")\n",
    "df.head()"
   ]
  },
  {
   "cell_type": "code",
   "execution_count": 9,
   "id": "6f7b970d",
   "metadata": {
    "scrolled": true
   },
   "outputs": [
    {
     "name": "stdout",
     "output_type": "stream",
     "text": [
      "<class 'pandas.core.frame.DataFrame'>\n",
      "RangeIndex: 5180 entries, 0 to 5179\n",
      "Data columns (total 22 columns):\n",
      " #   Column              Non-Null Count  Dtype  \n",
      "---  ------              --------------  -----  \n",
      " 0   EmployeeID          5180 non-null   int64  \n",
      " 1   Attrition           5180 non-null   int64  \n",
      " 2   Age                 5180 non-null   int64  \n",
      " 3   TravelProfile       5180 non-null   int64  \n",
      " 4   Department          5180 non-null   int64  \n",
      " 5   HomeToWork          5180 non-null   int64  \n",
      " 6   EducationField      5180 non-null   int64  \n",
      " 7   Gender              5180 non-null   int64  \n",
      " 8   HourlnWeek          5180 non-null   float64\n",
      " 9   Involvement         5180 non-null   int64  \n",
      " 10  WorkLifeBalance     5180 non-null   int64  \n",
      " 11  Designation         5180 non-null   int64  \n",
      " 12  JobSatisfaction     5180 non-null   int64  \n",
      " 13  ESOPs               5180 non-null   int64  \n",
      " 14  NumCompaniesWorked  5180 non-null   int64  \n",
      " 15  OverTime            5180 non-null   int64  \n",
      " 16  SalaryHikelastYear  5180 non-null   float64\n",
      " 17  WorkExperience      5180 non-null   int64  \n",
      " 18  LastPromotion       5180 non-null   int64  \n",
      " 19  CurrentProfile      5180 non-null   int64  \n",
      " 20  MaritalStatus       5180 non-null   int64  \n",
      " 21  MonthlyIncome       5180 non-null   float64\n",
      "dtypes: float64(3), int64(19)\n",
      "memory usage: 890.4 KB\n"
     ]
    }
   ],
   "source": [
    "df.info()"
   ]
  },
  {
   "cell_type": "markdown",
   "id": "27001b1e",
   "metadata": {},
   "source": [
    "### Model Prerequisites"
   ]
  },
  {
   "cell_type": "code",
   "execution_count": 10,
   "id": "ade26323",
   "metadata": {},
   "outputs": [],
   "source": [
    "# dependent and independent variables\n",
    "\n",
    "x = df.drop([\"EmployeeID\",\"Attrition\"], axis=1)\n",
    "y = df[\"Attrition\"]"
   ]
  },
  {
   "cell_type": "code",
   "execution_count": 11,
   "id": "7cbd2e0a",
   "metadata": {},
   "outputs": [],
   "source": [
    "# train and test data splits\n",
    "\n",
    "x_train, x_test, y_train, y_test = train_test_split(x, y, test_size=0.30, stratify=y)"
   ]
  },
  {
   "cell_type": "code",
   "execution_count": 12,
   "id": "4203ba3a",
   "metadata": {},
   "outputs": [
    {
     "name": "stdout",
     "output_type": "stream",
     "text": [
      "Train Data Size: 3626\n",
      "Test Data Size: 1554\n",
      "\n",
      "\n",
      "Train Target Class Proportion\n",
      "\n",
      "0    0.72118\n",
      "1    0.27882\n",
      "Name: Attrition, dtype: float64\n"
     ]
    }
   ],
   "source": [
    "print(\"Train Data Size: {}\".format(x_train.shape[0]))\n",
    "print(\"Test Data Size: {}\".format(x_test.shape[0]))\n",
    "print(\"\\n\")\n",
    "print(\"Train Target Class Proportion\")\n",
    "print(\"\")\n",
    "print(y_train.value_counts(normalize=True))"
   ]
  },
  {
   "cell_type": "code",
   "execution_count": 13,
   "id": "665cbba3",
   "metadata": {},
   "outputs": [],
   "source": [
    "# scaling the data for ann, log models\n",
    "\n",
    "x_train_scaled = x_train.apply(zscore)\n",
    "x_test_scaled = x_test.apply(zscore)"
   ]
  },
  {
   "cell_type": "markdown",
   "id": "e91feafb",
   "metadata": {},
   "source": [
    "### Model Testing"
   ]
  },
  {
   "cell_type": "markdown",
   "id": "64f32d59",
   "metadata": {},
   "source": [
    "### Decision Tree Classifier"
   ]
  },
  {
   "cell_type": "code",
   "execution_count": 14,
   "id": "f302c676",
   "metadata": {},
   "outputs": [
    {
     "name": "stdout",
     "output_type": "stream",
     "text": [
      "{'criterion': 'gini', 'max_depth': 5, 'min_samples_leaf': 70, 'min_samples_split': 240}\n"
     ]
    }
   ],
   "source": [
    "# performing grid search\n",
    "\n",
    "model = DecisionTreeClassifier(random_state=123)\n",
    "\n",
    "parameters = {\"criterion\":[\"gini\"],\n",
    "              \"max_depth\":[5,6],\n",
    "              \"min_samples_leaf\":[50,60,70],\n",
    "              \"min_samples_split\":[240,270,300]}\n",
    "\n",
    "grid = GridSearchCV(estimator=model, param_grid=parameters, cv=5).fit(x_train,y_train)\n",
    "print(grid.best_params_)"
   ]
  },
  {
   "cell_type": "code",
   "execution_count": 15,
   "id": "9b4c7b54",
   "metadata": {},
   "outputs": [
    {
     "name": "stdout",
     "output_type": "stream",
     "text": [
      "#----- Accuracy -----#\n",
      "\n",
      "  Train Data: 0.7821\n",
      "  Test Data : 0.7761\n",
      "\n",
      "\n",
      "#----- f1-score -----#\n",
      "\n",
      "  Train Data: 0.5655\n",
      "  Test Data : 0.5661\n"
     ]
    }
   ],
   "source": [
    "# fitting and training the model-------------------------------------\n",
    "model = grid.best_estimator_.fit(x_train,y_train)\n",
    "\n",
    "# calculations-------------------------------------------------------\n",
    "train_predictions = model.predict(x_train)\n",
    "test_predictions = model.predict(x_test)\n",
    "\n",
    "train_accuracy = round(accuracy_score(y_train,train_predictions),4)\n",
    "test_accuracy = round(accuracy_score(y_test,test_predictions),4)\n",
    "\n",
    "train_f1_score = round(f1_score(y_train,train_predictions),4)\n",
    "test_f1_score = round(f1_score(y_test,test_predictions),4)\n",
    "\n",
    "# printing-----------------------------------------------------------\n",
    "print(\"#----- Accuracy -----#\")\n",
    "print(\"\")\n",
    "print(\"  Train Data: {}\".format(train_accuracy))\n",
    "print(\"  Test Data : {}\".format(test_accuracy))\n",
    "print(\"\\n\")\n",
    "print(\"#----- f1-score -----#\")\n",
    "print(\"\")\n",
    "print(\"  Train Data: {}\".format(train_f1_score))\n",
    "print(\"  Test Data : {}\".format(test_f1_score))"
   ]
  },
  {
   "cell_type": "markdown",
   "id": "89fa85c8",
   "metadata": {},
   "source": [
    "### Decision Tree Classifier (Bagging Basis)"
   ]
  },
  {
   "cell_type": "code",
   "execution_count": 16,
   "id": "3f5f42e8",
   "metadata": {
    "scrolled": true
   },
   "outputs": [
    {
     "name": "stdout",
     "output_type": "stream",
     "text": [
      "#----- Accuracy -----#\n",
      "\n",
      "  Train Data: 1.0\n",
      "  Test Data : 0.9794\n",
      "\n",
      "\n",
      "#----- f1-score -----#\n",
      "\n",
      "  Train Data: 1.0\n",
      "  Test Data : 0.9636\n"
     ]
    }
   ],
   "source": [
    "# fitting and training the model-------------------------------------\n",
    "model = BaggingClassifier(n_estimators=25, random_state=123).fit(x_train,y_train)\n",
    "\n",
    "# calculations-------------------------------------------------------\n",
    "train_predictions = model.predict(x_train)\n",
    "test_predictions = model.predict(x_test)\n",
    "\n",
    "train_accuracy = round(accuracy_score(y_train,train_predictions),4)\n",
    "test_accuracy = round(accuracy_score(y_test,test_predictions),4)\n",
    "\n",
    "train_f1_score = round(f1_score(y_train,train_predictions),4)\n",
    "test_f1_score = round(f1_score(y_test,test_predictions),4)\n",
    "\n",
    "# printing-----------------------------------------------------------\n",
    "print(\"#----- Accuracy -----#\")\n",
    "print(\"\")\n",
    "print(\"  Train Data: {}\".format(train_accuracy))\n",
    "print(\"  Test Data : {}\".format(test_accuracy))\n",
    "print(\"\\n\")\n",
    "print(\"#----- f1-score -----#\")\n",
    "print(\"\")\n",
    "print(\"  Train Data: {}\".format(train_f1_score))\n",
    "print(\"  Test Data : {}\".format(test_f1_score))"
   ]
  },
  {
   "cell_type": "markdown",
   "id": "bcad149f",
   "metadata": {},
   "source": [
    "### Decision Tree Classifier (Adaptive Boosting Basis)"
   ]
  },
  {
   "cell_type": "code",
   "execution_count": 17,
   "id": "7b2f43a8",
   "metadata": {},
   "outputs": [
    {
     "name": "stdout",
     "output_type": "stream",
     "text": [
      "#----- Accuracy -----#\n",
      "\n",
      "  Train Data: 1.0\n",
      "  Test Data : 0.9801\n",
      "\n",
      "\n",
      "#----- f1-score -----#\n",
      "\n",
      "  Train Data: 1.0\n",
      "  Test Data : 0.9636\n"
     ]
    }
   ],
   "source": [
    "# fitting and training the model-------------------------------------\n",
    "\n",
    "estmr = DecisionTreeClassifier(max_depth=14)\n",
    "model = AdaBoostClassifier(base_estimator=estmr, n_estimators=75, random_state=123).fit(x_train,y_train)\n",
    "\n",
    "# calculations-------------------------------------------------------\n",
    "train_predictions = model.predict(x_train)\n",
    "test_predictions = model.predict(x_test)\n",
    "\n",
    "train_accuracy = round(accuracy_score(y_train,train_predictions),4)\n",
    "test_accuracy = round(accuracy_score(y_test,test_predictions),4)\n",
    "\n",
    "train_f1_score = round(f1_score(y_train,train_predictions),4)\n",
    "test_f1_score = round(f1_score(y_test,test_predictions),4)\n",
    "\n",
    "# printing-----------------------------------------------------------\n",
    "print(\"#----- Accuracy -----#\")\n",
    "print(\"\")\n",
    "print(\"  Train Data: {}\".format(train_accuracy))\n",
    "print(\"  Test Data : {}\".format(test_accuracy))\n",
    "print(\"\\n\")\n",
    "print(\"#----- f1-score -----#\")\n",
    "print(\"\")\n",
    "print(\"  Train Data: {}\".format(train_f1_score))\n",
    "print(\"  Test Data : {}\".format(test_f1_score))"
   ]
  },
  {
   "cell_type": "markdown",
   "id": "52fd06bb",
   "metadata": {},
   "source": [
    "### Decision Tree Classifier (Gradient Boosting Basis)"
   ]
  },
  {
   "cell_type": "code",
   "execution_count": 18,
   "id": "88b251d2",
   "metadata": {},
   "outputs": [
    {
     "name": "stdout",
     "output_type": "stream",
     "text": [
      "#----- Accuracy -----#\n",
      "\n",
      "  Train Data: 0.8886\n",
      "  Test Data : 0.8662\n",
      "\n",
      "\n",
      "#----- f1-score -----#\n",
      "\n",
      "  Train Data: 0.7681\n",
      "  Test Data : 0.7158\n"
     ]
    }
   ],
   "source": [
    "# fitting and training the model-------------------------------------\n",
    "\n",
    "model = GradientBoostingClassifier(n_estimators=75, random_state=123).fit(x_train,y_train)\n",
    "\n",
    "# calculations-------------------------------------------------------\n",
    "train_predictions = model.predict(x_train)\n",
    "test_predictions = model.predict(x_test)\n",
    "\n",
    "train_accuracy = round(accuracy_score(y_train,train_predictions),4)\n",
    "test_accuracy = round(accuracy_score(y_test,test_predictions),4)\n",
    "\n",
    "train_f1_score = round(f1_score(y_train,train_predictions),4)\n",
    "test_f1_score = round(f1_score(y_test,test_predictions),4)\n",
    "\n",
    "# printing-----------------------------------------------------------\n",
    "print(\"#----- Accuracy -----#\")\n",
    "print(\"\")\n",
    "print(\"  Train Data: {}\".format(train_accuracy))\n",
    "print(\"  Test Data : {}\".format(test_accuracy))\n",
    "print(\"\\n\")\n",
    "print(\"#----- f1-score -----#\")\n",
    "print(\"\")\n",
    "print(\"  Train Data: {}\".format(train_f1_score))\n",
    "print(\"  Test Data : {}\".format(test_f1_score))"
   ]
  },
  {
   "cell_type": "markdown",
   "id": "84ab4021",
   "metadata": {},
   "source": [
    "### Random Forest Classifier"
   ]
  },
  {
   "cell_type": "code",
   "execution_count": 19,
   "id": "cc4f69ce",
   "metadata": {},
   "outputs": [
    {
     "name": "stdout",
     "output_type": "stream",
     "text": [
      "{'max_features': 10, 'n_estimators': 200}\n"
     ]
    }
   ],
   "source": [
    "# performing grid search\n",
    "\n",
    "model = RandomForestClassifier(random_state=123)\n",
    "\n",
    "parameters = {\"n_estimators\":[100,200],                 # [150,200,250]\n",
    "              \"max_features\":[10,12]}                   # [7,8,9]\n",
    "\n",
    "grid = GridSearchCV(estimator=model, param_grid=parameters, cv=5).fit(x_train,y_train)\n",
    "print(grid.best_params_)"
   ]
  },
  {
   "cell_type": "code",
   "execution_count": 20,
   "id": "049ff3bd",
   "metadata": {},
   "outputs": [
    {
     "name": "stdout",
     "output_type": "stream",
     "text": [
      "#----- Accuracy -----#\n",
      "\n",
      "  Train Data: 1.0\n",
      "  Test Data : 0.9858\n",
      "\n",
      "\n",
      "#----- f1-score -----#\n",
      "\n",
      "  Train Data: 1.0\n",
      "  Test Data : 0.9747\n"
     ]
    }
   ],
   "source": [
    "# fitting and training the model-------------------------------------\n",
    "model = grid.best_estimator_.fit(x_train,y_train)\n",
    "\n",
    "# calculations-------------------------------------------------------\n",
    "train_predictions = model.predict(x_train)\n",
    "test_predictions = model.predict(x_test)\n",
    "\n",
    "train_accuracy = round(accuracy_score(y_train,train_predictions),4)\n",
    "test_accuracy = round(accuracy_score(y_test,test_predictions),4)\n",
    "\n",
    "train_f1_score = round(f1_score(y_train,train_predictions),4)\n",
    "test_f1_score = round(f1_score(y_test,test_predictions),4)\n",
    "\n",
    "# printing-----------------------------------------------------------\n",
    "print(\"#----- Accuracy -----#\")\n",
    "print(\"\")\n",
    "print(\"  Train Data: {}\".format(train_accuracy))\n",
    "print(\"  Test Data : {}\".format(test_accuracy))\n",
    "print(\"\\n\")\n",
    "print(\"#----- f1-score -----#\")\n",
    "print(\"\")\n",
    "print(\"  Train Data: {}\".format(train_f1_score))\n",
    "print(\"  Test Data : {}\".format(test_f1_score))"
   ]
  },
  {
   "cell_type": "markdown",
   "id": "fe2ccf2f",
   "metadata": {},
   "source": [
    "### ANN Classifier"
   ]
  },
  {
   "cell_type": "code",
   "execution_count": 21,
   "id": "84566442",
   "metadata": {},
   "outputs": [
    {
     "name": "stdout",
     "output_type": "stream",
     "text": [
      "{'activation': 'tanh', 'hidden_layer_sizes': 500, 'max_iter': 400, 'solver': 'adam', 'tol': 0.0001}\n"
     ]
    }
   ],
   "source": [
    "# performing grid search\n",
    "\n",
    "model = MLPClassifier(random_state=123)\n",
    "\n",
    "parameters = {\"hidden_layer_sizes\":[(500)],                            # [(500),(100,100)]\n",
    "              \"activation\":[\"tanh\"],                                   # [\"relu\",\"logistic\",\"tanh\",\"identity\"]\n",
    "              \"solver\":[\"adam\"],                                       # [\"sgd\",\"adam\",\"lbfgs\"]\n",
    "              \"max_iter\":[400],                                        # [300,400]\n",
    "              \"tol\":[0.0001]}                                          # [0.001, 0.0001]\n",
    "\n",
    "grid = GridSearchCV(estimator=model, param_grid=parameters, cv=5).fit(x_train_scaled,y_train)\n",
    "print(grid.best_params_)"
   ]
  },
  {
   "cell_type": "code",
   "execution_count": 22,
   "id": "c8602a0e",
   "metadata": {},
   "outputs": [
    {
     "name": "stdout",
     "output_type": "stream",
     "text": [
      "#----- Accuracy -----#\n",
      "\n",
      "  Train Data: 1.0\n",
      "  Test Data : 0.9807\n",
      "\n",
      "\n",
      "#----- f1-score -----#\n",
      "\n",
      "  Train Data: 1.0\n",
      "  Test Data : 0.9658\n"
     ]
    }
   ],
   "source": [
    "# fitting and training the model-------------------------------------\n",
    "model = grid.best_estimator_.fit(x_train_scaled,y_train)\n",
    "\n",
    "# calculations-------------------------------------------------------\n",
    "train_predictions = model.predict(x_train_scaled)\n",
    "test_predictions = model.predict(x_test_scaled)\n",
    "\n",
    "train_accuracy = round(accuracy_score(y_train,train_predictions),4)\n",
    "test_accuracy = round(accuracy_score(y_test,test_predictions),4)\n",
    "\n",
    "train_f1_score = round(f1_score(y_train,train_predictions),4)\n",
    "test_f1_score = round(f1_score(y_test,test_predictions),4)\n",
    "\n",
    "# printing-----------------------------------------------------------\n",
    "print(\"#----- Accuracy -----#\")\n",
    "print(\"\")\n",
    "print(\"  Train Data: {}\".format(train_accuracy))\n",
    "print(\"  Test Data : {}\".format(test_accuracy))\n",
    "print(\"\\n\")\n",
    "print(\"#----- f1-score -----#\")\n",
    "print(\"\")\n",
    "print(\"  Train Data: {}\".format(train_f1_score))\n",
    "print(\"  Test Data : {}\".format(test_f1_score))"
   ]
  },
  {
   "cell_type": "markdown",
   "id": "d2698b2a",
   "metadata": {},
   "source": [
    "### Logistic Regression Model"
   ]
  },
  {
   "cell_type": "code",
   "execution_count": 23,
   "id": "3239d8ec",
   "metadata": {},
   "outputs": [
    {
     "name": "stdout",
     "output_type": "stream",
     "text": [
      "{'penalty': 'l1', 'solver': 'liblinear', 'tol': 0.0001}\n"
     ]
    }
   ],
   "source": [
    "# performing grid search\n",
    "\n",
    "model = LogisticRegression(random_state=123)\n",
    "\n",
    "parameters = {\"penalty\":[\"l1\",\"l2\",\"elasticnet\"],\n",
    "              \"solver\":['newton-cg','lbfgs','liblinear','sag','saga'],\n",
    "              \"tol\":[0.1,0.01,0.001,0.0001]}\n",
    "\n",
    "grid = GridSearchCV(estimator=model, param_grid=parameters, cv=5).fit(x_train,y_train)\n",
    "print(grid.best_params_)"
   ]
  },
  {
   "cell_type": "code",
   "execution_count": 24,
   "id": "6b294e15",
   "metadata": {},
   "outputs": [
    {
     "name": "stdout",
     "output_type": "stream",
     "text": [
      "#----- Accuracy -----#\n",
      "\n",
      "  Train Data: 0.8075\n",
      "  Test Data : 0.8102\n",
      "\n",
      "\n",
      "#----- f1-score -----#\n",
      "\n",
      "  Train Data: 0.5965\n",
      "  Test Data : 0.5897\n"
     ]
    }
   ],
   "source": [
    "# fitting and training the model-------------------------------------\n",
    "model = grid.best_estimator_.fit(x_train,y_train)\n",
    "\n",
    "# calculations-------------------------------------------------------\n",
    "train_predictions = model.predict(x_train)\n",
    "test_predictions = model.predict(x_test)\n",
    "\n",
    "train_accuracy = round(accuracy_score(y_train,train_predictions),4)\n",
    "test_accuracy = round(accuracy_score(y_test,test_predictions),4)\n",
    "\n",
    "train_f1_score = round(f1_score(y_train,train_predictions),4)\n",
    "test_f1_score = round(f1_score(y_test,test_predictions),4)\n",
    "\n",
    "# printing-----------------------------------------------------------\n",
    "print(\"#----- Accuracy -----#\")\n",
    "print(\"\")\n",
    "print(\"  Train Data: {}\".format(train_accuracy))\n",
    "print(\"  Test Data : {}\".format(test_accuracy))\n",
    "print(\"\\n\")\n",
    "print(\"#----- f1-score -----#\")\n",
    "print(\"\")\n",
    "print(\"  Train Data: {}\".format(train_f1_score))\n",
    "print(\"  Test Data : {}\".format(test_f1_score))"
   ]
  },
  {
   "cell_type": "markdown",
   "id": "7a51151c",
   "metadata": {},
   "source": [
    "### LDA Classifier Model"
   ]
  },
  {
   "cell_type": "code",
   "execution_count": 25,
   "id": "111ad7ab",
   "metadata": {},
   "outputs": [
    {
     "name": "stdout",
     "output_type": "stream",
     "text": [
      "{'solver': 'svd', 'tol': 0.1}\n"
     ]
    }
   ],
   "source": [
    "# performing grid search\n",
    "\n",
    "model = LinearDiscriminantAnalysis()\n",
    "\n",
    "parameters = {\"solver\":['svd', 'lsqr', 'eigen'],\n",
    "              \"tol\":[0.1,0.01,0.001,0.0001]}\n",
    "\n",
    "grid = GridSearchCV(estimator=model, param_grid=parameters, cv=5).fit(x_train,y_train)\n",
    "print(grid.best_params_)"
   ]
  },
  {
   "cell_type": "code",
   "execution_count": 26,
   "id": "e0325365",
   "metadata": {},
   "outputs": [
    {
     "name": "stdout",
     "output_type": "stream",
     "text": [
      "#----- Accuracy -----#\n",
      "\n",
      "  Train Data: 0.8058\n",
      "  Test Data : 0.7992\n",
      "\n",
      "\n",
      "#----- f1-score -----#\n",
      "\n",
      "  Train Data: 0.5949\n",
      "  Test Data : 0.5702\n"
     ]
    }
   ],
   "source": [
    "# fitting and training the model-------------------------------------\n",
    "model = grid.best_estimator_.fit(x_train,y_train)\n",
    "\n",
    "# calculations-------------------------------------------------------\n",
    "train_predictions = model.predict(x_train)\n",
    "test_predictions = model.predict(x_test)\n",
    "\n",
    "train_accuracy = round(accuracy_score(y_train,train_predictions),4)\n",
    "test_accuracy = round(accuracy_score(y_test,test_predictions),4)\n",
    "\n",
    "train_f1_score = round(f1_score(y_train,train_predictions),4)\n",
    "test_f1_score = round(f1_score(y_test,test_predictions),4)\n",
    "\n",
    "# printing-----------------------------------------------------------\n",
    "print(\"#----- Accuracy -----#\")\n",
    "print(\"\")\n",
    "print(\"  Train Data: {}\".format(train_accuracy))\n",
    "print(\"  Test Data : {}\".format(test_accuracy))\n",
    "print(\"\\n\")\n",
    "print(\"#----- f1-score -----#\")\n",
    "print(\"\")\n",
    "print(\"  Train Data: {}\".format(train_f1_score))\n",
    "print(\"  Test Data : {}\".format(test_f1_score))"
   ]
  },
  {
   "cell_type": "markdown",
   "id": "772972fe",
   "metadata": {},
   "source": [
    "### Naive Bayes Model"
   ]
  },
  {
   "cell_type": "code",
   "execution_count": 27,
   "id": "5e7564b3",
   "metadata": {},
   "outputs": [
    {
     "name": "stdout",
     "output_type": "stream",
     "text": [
      "#----- Accuracy -----#\n",
      "\n",
      "  Train Data: 0.754\n",
      "  Test Data : 0.7716\n",
      "\n",
      "\n",
      "#----- f1-score -----#\n",
      "\n",
      "  Train Data: 0.6039\n",
      "  Test Data : 0.6306\n"
     ]
    }
   ],
   "source": [
    "# fitting and training the model-------------------------------------\n",
    "model = GaussianNB().fit(x_train,y_train)\n",
    "\n",
    "# calculations-------------------------------------------------------\n",
    "train_predictions = model.predict(x_train)\n",
    "test_predictions = model.predict(x_test)\n",
    "\n",
    "train_accuracy = round(accuracy_score(y_train,train_predictions),4)\n",
    "test_accuracy = round(accuracy_score(y_test,test_predictions),4)\n",
    "\n",
    "train_f1_score = round(f1_score(y_train,train_predictions),4)\n",
    "test_f1_score = round(f1_score(y_test,test_predictions),4)\n",
    "\n",
    "# printing-----------------------------------------------------------\n",
    "print(\"#----- Accuracy -----#\")\n",
    "print(\"\")\n",
    "print(\"  Train Data: {}\".format(train_accuracy))\n",
    "print(\"  Test Data : {}\".format(test_accuracy))\n",
    "print(\"\\n\")\n",
    "print(\"#----- f1-score -----#\")\n",
    "print(\"\")\n",
    "print(\"  Train Data: {}\".format(train_f1_score))\n",
    "print(\"  Test Data : {}\".format(test_f1_score))"
   ]
  },
  {
   "cell_type": "markdown",
   "id": "f3f7fcdf",
   "metadata": {},
   "source": [
    "### KNN Classifier Model"
   ]
  },
  {
   "cell_type": "code",
   "execution_count": 28,
   "id": "c49c70f8",
   "metadata": {},
   "outputs": [
    {
     "name": "stdout",
     "output_type": "stream",
     "text": [
      "{'algorithm': 'auto', 'n_neighbors': 1, 'p': 1, 'weights': 'uniform'}\n"
     ]
    }
   ],
   "source": [
    "# performing grid search\n",
    "\n",
    "model = KNeighborsClassifier()\n",
    "\n",
    "parameters = {\"n_neighbors\":[1,2,3,4,5],\"p\":[1,2],\"weights\":[\"uniform\",\"distance\"],\n",
    "              \"algorithm\":['auto','ball_tree','kd_tree','brute']}\n",
    "\n",
    "grid = GridSearchCV(estimator=model, param_grid=parameters, cv=5).fit(x_train_scaled,y_train)\n",
    "print(grid.best_params_)"
   ]
  },
  {
   "cell_type": "code",
   "execution_count": 29,
   "id": "ea8668ca",
   "metadata": {},
   "outputs": [
    {
     "name": "stdout",
     "output_type": "stream",
     "text": [
      "#----- Accuracy -----#\n",
      "\n",
      "  Train Data: 0.9964\n",
      "  Test Data : 0.9852\n",
      "\n",
      "\n",
      "#----- f1-score -----#\n",
      "\n",
      "  Train Data: 0.9935\n",
      "  Test Data : 0.9733\n"
     ]
    }
   ],
   "source": [
    "# fitting and training the model-------------------------------------\n",
    "model = KNeighborsClassifier(n_neighbors=2,weights='uniform',algorithm=\"auto\",p=1).fit(x_train_scaled,y_train)\n",
    "\n",
    "# calculations-------------------------------------------------------\n",
    "train_predictions = model.predict(x_train_scaled)\n",
    "test_predictions = model.predict(x_test_scaled)\n",
    "\n",
    "train_accuracy = round(accuracy_score(y_train,train_predictions),4)\n",
    "test_accuracy = round(accuracy_score(y_test,test_predictions),4)\n",
    "\n",
    "train_f1_score = round(f1_score(y_train,train_predictions),4)\n",
    "test_f1_score = round(f1_score(y_test,test_predictions),4)\n",
    "\n",
    "# printing-----------------------------------------------------------\n",
    "print(\"#----- Accuracy -----#\")\n",
    "print(\"\")\n",
    "print(\"  Train Data: {}\".format(train_accuracy))\n",
    "print(\"  Test Data : {}\".format(test_accuracy))\n",
    "print(\"\\n\")\n",
    "print(\"#----- f1-score -----#\")\n",
    "print(\"\")\n",
    "print(\"  Train Data: {}\".format(train_f1_score))\n",
    "print(\"  Test Data : {}\".format(test_f1_score))"
   ]
  },
  {
   "cell_type": "markdown",
   "id": "0c84369f",
   "metadata": {},
   "source": [
    "---------------"
   ]
  }
 ],
 "metadata": {
  "kernelspec": {
   "display_name": "Python 3 (ipykernel)",
   "language": "python",
   "name": "python3"
  },
  "language_info": {
   "codemirror_mode": {
    "name": "ipython",
    "version": 3
   },
   "file_extension": ".py",
   "mimetype": "text/x-python",
   "name": "python",
   "nbconvert_exporter": "python",
   "pygments_lexer": "ipython3",
   "version": "3.8.12"
  }
 },
 "nbformat": 4,
 "nbformat_minor": 5
}
