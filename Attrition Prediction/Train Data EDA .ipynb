{
 "cells": [
  {
   "cell_type": "code",
   "execution_count": 1,
   "id": "7bcab385",
   "metadata": {},
   "outputs": [],
   "source": [
    "import numpy as np\n",
    "import pandas as pd"
   ]
  },
  {
   "cell_type": "code",
   "execution_count": 2,
   "id": "b8d981df",
   "metadata": {},
   "outputs": [],
   "source": [
    "from scipy.stats import zscore\n",
    "from sklearn.impute import SimpleImputer"
   ]
  },
  {
   "cell_type": "code",
   "execution_count": 3,
   "id": "79b7e6e2",
   "metadata": {},
   "outputs": [],
   "source": [
    "import seaborn as sns\n",
    "import matplotlib.pyplot as plt\n",
    "%matplotlib inline"
   ]
  },
  {
   "cell_type": "code",
   "execution_count": 4,
   "id": "70bc431b",
   "metadata": {},
   "outputs": [],
   "source": [
    "from warnings import filterwarnings\n",
    "filterwarnings('ignore')"
   ]
  },
  {
   "cell_type": "code",
   "execution_count": 5,
   "id": "2736b9e4",
   "metadata": {},
   "outputs": [
    {
     "data": {
      "text/html": [
       "<div>\n",
       "<style scoped>\n",
       "    .dataframe tbody tr th:only-of-type {\n",
       "        vertical-align: middle;\n",
       "    }\n",
       "\n",
       "    .dataframe tbody tr th {\n",
       "        vertical-align: top;\n",
       "    }\n",
       "\n",
       "    .dataframe thead th {\n",
       "        text-align: right;\n",
       "    }\n",
       "</style>\n",
       "<table border=\"1\" class=\"dataframe\">\n",
       "  <thead>\n",
       "    <tr style=\"text-align: right;\">\n",
       "      <th></th>\n",
       "      <th>EmployeeID</th>\n",
       "      <th>Attrition</th>\n",
       "      <th>Age</th>\n",
       "      <th>TravelProfile</th>\n",
       "      <th>Department</th>\n",
       "      <th>HomeToWork</th>\n",
       "      <th>EducationField</th>\n",
       "      <th>Gender</th>\n",
       "      <th>HourlnWeek</th>\n",
       "      <th>Involvement</th>\n",
       "      <th>...</th>\n",
       "      <th>JobSatisfaction</th>\n",
       "      <th>ESOPs</th>\n",
       "      <th>NumCompaniesWorked</th>\n",
       "      <th>OverTime</th>\n",
       "      <th>SalaryHikelastYear</th>\n",
       "      <th>WorkExperience</th>\n",
       "      <th>LastPromotion</th>\n",
       "      <th>CurrentProfile</th>\n",
       "      <th>MaritalStatus</th>\n",
       "      <th>MonthlyIncome</th>\n",
       "    </tr>\n",
       "  </thead>\n",
       "  <tbody>\n",
       "    <tr>\n",
       "      <th>0</th>\n",
       "      <td>5110001.0</td>\n",
       "      <td>0.0</td>\n",
       "      <td>35.0</td>\n",
       "      <td>Rarely</td>\n",
       "      <td>Analytics</td>\n",
       "      <td>5.0</td>\n",
       "      <td>CA</td>\n",
       "      <td>Male</td>\n",
       "      <td>69.0</td>\n",
       "      <td>1.0</td>\n",
       "      <td>...</td>\n",
       "      <td>1.0</td>\n",
       "      <td>1.0</td>\n",
       "      <td>1.0</td>\n",
       "      <td>1.0</td>\n",
       "      <td>20.0</td>\n",
       "      <td>7.0</td>\n",
       "      <td>2.0</td>\n",
       "      <td>NaN</td>\n",
       "      <td>M</td>\n",
       "      <td>18932.0</td>\n",
       "    </tr>\n",
       "    <tr>\n",
       "      <th>1</th>\n",
       "      <td>5110002.0</td>\n",
       "      <td>1.0</td>\n",
       "      <td>32.0</td>\n",
       "      <td>Yes</td>\n",
       "      <td>Sales</td>\n",
       "      <td>5.0</td>\n",
       "      <td>Statistics</td>\n",
       "      <td>Female</td>\n",
       "      <td>62.0</td>\n",
       "      <td>4.0</td>\n",
       "      <td>...</td>\n",
       "      <td>2.0</td>\n",
       "      <td>0.0</td>\n",
       "      <td>8.0</td>\n",
       "      <td>0.0</td>\n",
       "      <td>20.0</td>\n",
       "      <td>4.0</td>\n",
       "      <td>1.0</td>\n",
       "      <td>NaN</td>\n",
       "      <td>Single</td>\n",
       "      <td>18785.0</td>\n",
       "    </tr>\n",
       "    <tr>\n",
       "      <th>2</th>\n",
       "      <td>5110003.0</td>\n",
       "      <td>0.0</td>\n",
       "      <td>31.0</td>\n",
       "      <td>Rarely</td>\n",
       "      <td>Analytics</td>\n",
       "      <td>5.0</td>\n",
       "      <td>Statistics</td>\n",
       "      <td>F</td>\n",
       "      <td>45.0</td>\n",
       "      <td>5.0</td>\n",
       "      <td>...</td>\n",
       "      <td>2.0</td>\n",
       "      <td>1.0</td>\n",
       "      <td>3.0</td>\n",
       "      <td>0.0</td>\n",
       "      <td>26.0</td>\n",
       "      <td>12.0</td>\n",
       "      <td>1.0</td>\n",
       "      <td>3.0</td>\n",
       "      <td>Single</td>\n",
       "      <td>22091.0</td>\n",
       "    </tr>\n",
       "    <tr>\n",
       "      <th>3</th>\n",
       "      <td>5110004.0</td>\n",
       "      <td>0.0</td>\n",
       "      <td>34.0</td>\n",
       "      <td>Yes</td>\n",
       "      <td>Sales</td>\n",
       "      <td>10.0</td>\n",
       "      <td>Statistics</td>\n",
       "      <td>Female</td>\n",
       "      <td>32.0</td>\n",
       "      <td>3.0</td>\n",
       "      <td>...</td>\n",
       "      <td>4.0</td>\n",
       "      <td>1.0</td>\n",
       "      <td>1.0</td>\n",
       "      <td>0.0</td>\n",
       "      <td>23.0</td>\n",
       "      <td>5.0</td>\n",
       "      <td>1.0</td>\n",
       "      <td>3.0</td>\n",
       "      <td>Divorsed</td>\n",
       "      <td>20302.0</td>\n",
       "    </tr>\n",
       "    <tr>\n",
       "      <th>4</th>\n",
       "      <td>5110005.0</td>\n",
       "      <td>0.0</td>\n",
       "      <td>37.0</td>\n",
       "      <td>No</td>\n",
       "      <td>Analytics</td>\n",
       "      <td>27.0</td>\n",
       "      <td>Statistics</td>\n",
       "      <td>Female</td>\n",
       "      <td>49.0</td>\n",
       "      <td>3.0</td>\n",
       "      <td>...</td>\n",
       "      <td>4.0</td>\n",
       "      <td>1.0</td>\n",
       "      <td>8.0</td>\n",
       "      <td>0.0</td>\n",
       "      <td>21.0</td>\n",
       "      <td>12.0</td>\n",
       "      <td>1.0</td>\n",
       "      <td>9.0</td>\n",
       "      <td>Divorsed</td>\n",
       "      <td>21674.0</td>\n",
       "    </tr>\n",
       "  </tbody>\n",
       "</table>\n",
       "<p>5 rows × 22 columns</p>\n",
       "</div>"
      ],
      "text/plain": [
       "   EmployeeID  Attrition   Age TravelProfile Department  HomeToWork  \\\n",
       "0   5110001.0        0.0  35.0        Rarely  Analytics         5.0   \n",
       "1   5110002.0        1.0  32.0           Yes      Sales         5.0   \n",
       "2   5110003.0        0.0  31.0        Rarely  Analytics         5.0   \n",
       "3   5110004.0        0.0  34.0           Yes      Sales        10.0   \n",
       "4   5110005.0        0.0  37.0            No  Analytics        27.0   \n",
       "\n",
       "  EducationField  Gender  HourlnWeek  Involvement  ...  JobSatisfaction ESOPs  \\\n",
       "0             CA    Male        69.0          1.0  ...              1.0   1.0   \n",
       "1     Statistics  Female        62.0          4.0  ...              2.0   0.0   \n",
       "2     Statistics       F        45.0          5.0  ...              2.0   1.0   \n",
       "3     Statistics  Female        32.0          3.0  ...              4.0   1.0   \n",
       "4     Statistics  Female        49.0          3.0  ...              4.0   1.0   \n",
       "\n",
       "   NumCompaniesWorked  OverTime  SalaryHikelastYear  WorkExperience  \\\n",
       "0                 1.0       1.0                20.0             7.0   \n",
       "1                 8.0       0.0                20.0             4.0   \n",
       "2                 3.0       0.0                26.0            12.0   \n",
       "3                 1.0       0.0                23.0             5.0   \n",
       "4                 8.0       0.0                21.0            12.0   \n",
       "\n",
       "   LastPromotion  CurrentProfile  MaritalStatus  MonthlyIncome  \n",
       "0            2.0             NaN              M        18932.0  \n",
       "1            1.0             NaN         Single        18785.0  \n",
       "2            1.0             3.0         Single        22091.0  \n",
       "3            1.0             3.0       Divorsed        20302.0  \n",
       "4            1.0             9.0       Divorsed        21674.0  \n",
       "\n",
       "[5 rows x 22 columns]"
      ]
     },
     "execution_count": 5,
     "metadata": {},
     "output_type": "execute_result"
    }
   ],
   "source": [
    "df = pd.read_csv(\"train_data.csv\")\n",
    "df.head()"
   ]
  },
  {
   "cell_type": "code",
   "execution_count": 6,
   "id": "78f09a8a",
   "metadata": {},
   "outputs": [
    {
     "name": "stdout",
     "output_type": "stream",
     "text": [
      "Before: 2629\n",
      "After: 0\n"
     ]
    }
   ],
   "source": [
    "# removing the duplicate records\n",
    "\n",
    "dups_before = df.duplicated().sum()\n",
    "df = df.drop_duplicates()\n",
    "dups_after = df.duplicated().sum()\n",
    "\n",
    "print(\"Before: {}\".format(dups_before))\n",
    "print(\"After: {}\".format(dups_after))"
   ]
  },
  {
   "cell_type": "code",
   "execution_count": 7,
   "id": "74ea860c",
   "metadata": {},
   "outputs": [
    {
     "name": "stdout",
     "output_type": "stream",
     "text": [
      "<class 'pandas.core.frame.DataFrame'>\n",
      "Int64Index: 5181 entries, 0 to 5180\n",
      "Data columns (total 22 columns):\n",
      " #   Column              Non-Null Count  Dtype  \n",
      "---  ------              --------------  -----  \n",
      " 0   EmployeeID          5180 non-null   float64\n",
      " 1   Attrition           5180 non-null   float64\n",
      " 2   Age                 4864 non-null   float64\n",
      " 3   TravelProfile       5180 non-null   object \n",
      " 4   Department          5056 non-null   object \n",
      " 5   HomeToWork          4925 non-null   float64\n",
      " 6   EducationField      5180 non-null   object \n",
      " 7   Gender              5134 non-null   object \n",
      " 8   HourlnWeek          4893 non-null   float64\n",
      " 9   Involvement         5180 non-null   float64\n",
      " 10  WorkLifeBalance     5180 non-null   float64\n",
      " 11  Designation         5142 non-null   object \n",
      " 12  JobSatisfaction     5180 non-null   float64\n",
      " 13  ESOPs               5180 non-null   float64\n",
      " 14  NumCompaniesWorked  5180 non-null   float64\n",
      " 15  OverTime            5180 non-null   float64\n",
      " 16  SalaryHikelastYear  5011 non-null   float64\n",
      " 17  WorkExperience      4993 non-null   float64\n",
      " 18  LastPromotion       5110 non-null   float64\n",
      " 19  CurrentProfile      4869 non-null   float64\n",
      " 20  MaritalStatus       5180 non-null   object \n",
      " 21  MonthlyIncome       5087 non-null   float64\n",
      "dtypes: float64(16), object(6)\n",
      "memory usage: 931.0+ KB\n"
     ]
    }
   ],
   "source": [
    "df.info()"
   ]
  },
  {
   "cell_type": "code",
   "execution_count": 8,
   "id": "c14bfada",
   "metadata": {},
   "outputs": [],
   "source": [
    "# changing datatype of few variables (convenient for analysis)\n",
    "\n",
    "df[\"Attrition\"] = df[\"Attrition\"].astype(\"category\")\n",
    "df[\"Involvement\"] = df[\"Involvement\"].astype(\"category\")\n",
    "df[\"WorkLifeBalance\"] = df[\"WorkLifeBalance\"].astype(\"category\")\n",
    "df[\"JobSatisfaction\"] = df[\"JobSatisfaction\"].astype(\"category\")\n",
    "df[\"OverTime\"] = df[\"OverTime\"].astype(\"category\")\n",
    "df[\"ESOPs\"] = df[\"ESOPs\"].astype(\"category\")"
   ]
  },
  {
   "cell_type": "code",
   "execution_count": 9,
   "id": "8bd450f4",
   "metadata": {},
   "outputs": [],
   "source": [
    "# numerical and categorical\n",
    "\n",
    "num = df.select_dtypes(include=[\"float\",\"int\"]).columns\n",
    "cat = df.select_dtypes(include=[\"object\",\"category\"]).columns"
   ]
  },
  {
   "cell_type": "code",
   "execution_count": 10,
   "id": "c79e7895",
   "metadata": {},
   "outputs": [
    {
     "data": {
      "text/html": [
       "<div>\n",
       "<style scoped>\n",
       "    .dataframe tbody tr th:only-of-type {\n",
       "        vertical-align: middle;\n",
       "    }\n",
       "\n",
       "    .dataframe tbody tr th {\n",
       "        vertical-align: top;\n",
       "    }\n",
       "\n",
       "    .dataframe thead th {\n",
       "        text-align: right;\n",
       "    }\n",
       "</style>\n",
       "<table border=\"1\" class=\"dataframe\">\n",
       "  <thead>\n",
       "    <tr style=\"text-align: right;\">\n",
       "      <th></th>\n",
       "      <th>count</th>\n",
       "      <th>mean</th>\n",
       "      <th>std</th>\n",
       "      <th>min</th>\n",
       "      <th>25%</th>\n",
       "      <th>50%</th>\n",
       "      <th>75%</th>\n",
       "      <th>max</th>\n",
       "    </tr>\n",
       "  </thead>\n",
       "  <tbody>\n",
       "    <tr>\n",
       "      <th>Age</th>\n",
       "      <td>4864.0</td>\n",
       "      <td>37.108553</td>\n",
       "      <td>9.248647</td>\n",
       "      <td>18.0</td>\n",
       "      <td>30.0</td>\n",
       "      <td>36.0</td>\n",
       "      <td>43.0</td>\n",
       "      <td>61.0</td>\n",
       "    </tr>\n",
       "    <tr>\n",
       "      <th>HomeToWork</th>\n",
       "      <td>4925.0</td>\n",
       "      <td>11.107411</td>\n",
       "      <td>8.455577</td>\n",
       "      <td>1.0</td>\n",
       "      <td>5.0</td>\n",
       "      <td>9.0</td>\n",
       "      <td>16.0</td>\n",
       "      <td>121.0</td>\n",
       "    </tr>\n",
       "    <tr>\n",
       "      <th>HourlnWeek</th>\n",
       "      <td>4893.0</td>\n",
       "      <td>57.979767</td>\n",
       "      <td>12.996674</td>\n",
       "      <td>10.0</td>\n",
       "      <td>49.0</td>\n",
       "      <td>59.0</td>\n",
       "      <td>67.0</td>\n",
       "      <td>99.0</td>\n",
       "    </tr>\n",
       "    <tr>\n",
       "      <th>NumCompaniesWorked</th>\n",
       "      <td>5180.0</td>\n",
       "      <td>3.157336</td>\n",
       "      <td>2.606036</td>\n",
       "      <td>0.0</td>\n",
       "      <td>1.0</td>\n",
       "      <td>2.0</td>\n",
       "      <td>5.0</td>\n",
       "      <td>21.0</td>\n",
       "    </tr>\n",
       "    <tr>\n",
       "      <th>SalaryHikelastYear</th>\n",
       "      <td>5011.0</td>\n",
       "      <td>20.649371</td>\n",
       "      <td>3.706469</td>\n",
       "      <td>16.0</td>\n",
       "      <td>18.0</td>\n",
       "      <td>20.0</td>\n",
       "      <td>23.0</td>\n",
       "      <td>31.0</td>\n",
       "    </tr>\n",
       "    <tr>\n",
       "      <th>WorkExperience</th>\n",
       "      <td>4993.0</td>\n",
       "      <td>11.165832</td>\n",
       "      <td>7.797783</td>\n",
       "      <td>0.0</td>\n",
       "      <td>6.0</td>\n",
       "      <td>9.0</td>\n",
       "      <td>15.0</td>\n",
       "      <td>41.0</td>\n",
       "    </tr>\n",
       "    <tr>\n",
       "      <th>LastPromotion</th>\n",
       "      <td>5110.0</td>\n",
       "      <td>2.552838</td>\n",
       "      <td>3.234467</td>\n",
       "      <td>0.0</td>\n",
       "      <td>1.0</td>\n",
       "      <td>1.0</td>\n",
       "      <td>3.0</td>\n",
       "      <td>16.0</td>\n",
       "    </tr>\n",
       "    <tr>\n",
       "      <th>CurrentProfile</th>\n",
       "      <td>4869.0</td>\n",
       "      <td>4.385295</td>\n",
       "      <td>3.617643</td>\n",
       "      <td>0.0</td>\n",
       "      <td>2.0</td>\n",
       "      <td>3.0</td>\n",
       "      <td>7.0</td>\n",
       "      <td>18.0</td>\n",
       "    </tr>\n",
       "    <tr>\n",
       "      <th>MonthlyIncome</th>\n",
       "      <td>5087.0</td>\n",
       "      <td>21692.296442</td>\n",
       "      <td>4770.637922</td>\n",
       "      <td>1000.0</td>\n",
       "      <td>18362.0</td>\n",
       "      <td>20160.0</td>\n",
       "      <td>23443.5</td>\n",
       "      <td>95000.0</td>\n",
       "    </tr>\n",
       "  </tbody>\n",
       "</table>\n",
       "</div>"
      ],
      "text/plain": [
       "                     count          mean          std     min      25%  \\\n",
       "Age                 4864.0     37.108553     9.248647    18.0     30.0   \n",
       "HomeToWork          4925.0     11.107411     8.455577     1.0      5.0   \n",
       "HourlnWeek          4893.0     57.979767    12.996674    10.0     49.0   \n",
       "NumCompaniesWorked  5180.0      3.157336     2.606036     0.0      1.0   \n",
       "SalaryHikelastYear  5011.0     20.649371     3.706469    16.0     18.0   \n",
       "WorkExperience      4993.0     11.165832     7.797783     0.0      6.0   \n",
       "LastPromotion       5110.0      2.552838     3.234467     0.0      1.0   \n",
       "CurrentProfile      4869.0      4.385295     3.617643     0.0      2.0   \n",
       "MonthlyIncome       5087.0  21692.296442  4770.637922  1000.0  18362.0   \n",
       "\n",
       "                        50%      75%      max  \n",
       "Age                    36.0     43.0     61.0  \n",
       "HomeToWork              9.0     16.0    121.0  \n",
       "HourlnWeek             59.0     67.0     99.0  \n",
       "NumCompaniesWorked      2.0      5.0     21.0  \n",
       "SalaryHikelastYear     20.0     23.0     31.0  \n",
       "WorkExperience          9.0     15.0     41.0  \n",
       "LastPromotion           1.0      3.0     16.0  \n",
       "CurrentProfile          3.0      7.0     18.0  \n",
       "MonthlyIncome       20160.0  23443.5  95000.0  "
      ]
     },
     "execution_count": 10,
     "metadata": {},
     "output_type": "execute_result"
    }
   ],
   "source": [
    "# summary of numerical column\n",
    "\n",
    "df[num[1:]].describe().T"
   ]
  },
  {
   "cell_type": "code",
   "execution_count": 11,
   "id": "d82f9779",
   "metadata": {},
   "outputs": [],
   "source": [
    "# distribution of numerical variables\n",
    "\n",
    "col = num[1:]\n",
    "# plt.figure(figsize=(12,9))\n",
    "\n",
    "# for i in range(len(col)):\n",
    "#     plt.subplot(3,3,i+1)\n",
    "#     sns.histplot(train_df[col[i]], bins=20)\n",
    "#     plt.tight_layout()"
   ]
  },
  {
   "cell_type": "code",
   "execution_count": 12,
   "id": "abcf055e",
   "metadata": {},
   "outputs": [],
   "source": [
    "# checking the salary hike last year column more closely\n",
    "\n",
    "# plt.figure(figsize=(8,5))\n",
    "# sns.histplot(train_df[\"SalaryHikelastYear\"],bins=25)\n",
    "# plt.xticks(np.arange(16,31,1))\n",
    "# plt.show()"
   ]
  },
  {
   "cell_type": "code",
   "execution_count": 13,
   "id": "c19dd1d5",
   "metadata": {},
   "outputs": [],
   "source": [
    "# checking boxplots\n",
    "\n",
    "# col = num[1:]\n",
    "# plt.figure(figsize=(14,6))\n",
    "\n",
    "# for i in range(len(col)):\n",
    "#     plt.subplot(2,5,i+1)\n",
    "#     sns.boxplot(y=train_df[col[i]])\n",
    "#     plt.tight_layout()"
   ]
  },
  {
   "cell_type": "code",
   "execution_count": 14,
   "id": "75ec330c",
   "metadata": {},
   "outputs": [],
   "source": [
    "# checking the pairplot\n",
    "\n",
    "data = df[col]\n",
    "# sns.pairplot(data, diag_kind='kde');"
   ]
  },
  {
   "cell_type": "code",
   "execution_count": 15,
   "id": "e1b833a3",
   "metadata": {},
   "outputs": [
    {
     "data": {
      "image/png": "[encoded data removed]",
      "text/plain": [
       "<Figure size 1080x504 with 2 Axes>"
      ]
     },
     "metadata": {
      "needs_background": "light"
     },
     "output_type": "display_data"
    }
   ],
   "source": [
    "# checking the correlation heatmap\n",
    "\n",
    "data = df[col]\n",
    "correlation = np.round(data.corr(),2)\n",
    "\n",
    "plt.figure(figsize=(15,7))\n",
    "sns.heatmap(correlation, annot=True,  annot_kws={\"size\":12}, cmap=\"Blues\")\n",
    "plt.show()"
   ]
  },
  {
   "cell_type": "code",
   "execution_count": 16,
   "id": "05b1bf9b",
   "metadata": {
    "scrolled": true
   },
   "outputs": [
    {
     "name": "stdout",
     "output_type": "stream",
     "text": [
      "No.of.categories: 2\n",
      "\n",
      "0.0    3735\n",
      "1.0    1445\n",
      "Name: Attrition, dtype: int64\n",
      "---------------------------------\n",
      "\n",
      "No.of.categories: 3\n",
      "\n",
      "Rarely    3637\n",
      "Yes       1051\n",
      "No         492\n",
      "Name: TravelProfile, dtype: int64\n",
      "---------------------------------\n",
      "\n",
      "No.of.categories: 3\n",
      "\n",
      "Analytics    3219\n",
      "Sales        1615\n",
      "Marketing     222\n",
      "Name: Department, dtype: int64\n",
      "---------------------------------\n",
      "\n",
      "No.of.categories: 6\n",
      "\n",
      "Statistics           2129\n",
      "CA                   1560\n",
      "Marketing Diploma     603\n",
      "Engineer              487\n",
      "Other                 284\n",
      "MBA                   117\n",
      "Name: EducationField, dtype: int64\n",
      "---------------------------------\n",
      "\n",
      "No.of.categories: 3\n",
      "\n",
      "Male      3094\n",
      "Female    1338\n",
      "F          702\n",
      "Name: Gender, dtype: int64\n",
      "---------------------------------\n",
      "\n",
      "No.of.categories: 5\n",
      "\n",
      "3.0    3030\n",
      "4.0    1355\n",
      "1.0     361\n",
      "5.0     325\n",
      "2.0     109\n",
      "Name: Involvement, dtype: int64\n",
      "---------------------------------\n",
      "\n",
      "No.of.categories: 5\n",
      "\n",
      "4.0    1060\n",
      "3.0    1054\n",
      "5.0    1033\n",
      "1.0    1027\n",
      "2.0    1006\n",
      "Name: WorkLifeBalance, dtype: int64\n",
      "---------------------------------\n",
      "\n",
      "No.of.categories: 5\n",
      "\n",
      "Executive         2072\n",
      "Manager           1756\n",
      "Senior Manager     763\n",
      "AVP                328\n",
      "VP                 223\n",
      "Name: Designation, dtype: int64\n",
      "---------------------------------\n",
      "\n",
      "No.of.categories: 5\n",
      "\n",
      "3.0    1560\n",
      "5.0    1095\n",
      "4.0     965\n",
      "1.0     847\n",
      "2.0     713\n",
      "Name: JobSatisfaction, dtype: int64\n",
      "---------------------------------\n",
      "\n",
      "No.of.categories: 2\n",
      "\n",
      "0.0    2639\n",
      "1.0    2541\n",
      "Name: ESOPs, dtype: int64\n",
      "---------------------------------\n",
      "\n",
      "No.of.categories: 2\n",
      "\n",
      "0.0    3556\n",
      "1.0    1624\n",
      "Name: OverTime, dtype: int64\n",
      "---------------------------------\n",
      "\n",
      "No.of.categories: 4\n",
      "\n",
      "Single      1776\n",
      "Married     1614\n",
      "Divorsed    1016\n",
      "M            774\n",
      "Name: MaritalStatus, dtype: int64\n",
      "---------------------------------\n",
      "\n"
     ]
    }
   ],
   "source": [
    "# checking the object variables\n",
    "\n",
    "for i in cat:\n",
    "    print(\"No.of.categories: {}\".format(df[i].nunique()))\n",
    "    print(\"\")\n",
    "    print(df[i].value_counts())\n",
    "    print(\"---------------------------------\")\n",
    "    print(\"\")"
   ]
  },
  {
   "cell_type": "code",
   "execution_count": 17,
   "id": "88a9120e",
   "metadata": {},
   "outputs": [],
   "source": [
    "# combining married and m categories (both are same)\n",
    "df[\"MaritalStatus\"] = df[\"MaritalStatus\"].replace(\"M\",\"Married\")\n",
    "\n",
    "# combining female and f categories (both are same)\n",
    "df[\"Gender\"] = df[\"Gender\"].replace(\"F\",\"Female\")"
   ]
  },
  {
   "cell_type": "code",
   "execution_count": 18,
   "id": "e8d01122",
   "metadata": {},
   "outputs": [
    {
     "data": {
      "image/png": "[encoded data removed]",
      "text/plain": [
       "<Figure size 1080x360 with 2 Axes>"
      ]
     },
     "metadata": {
      "needs_background": "light"
     },
     "output_type": "display_data"
    }
   ],
   "source": [
    "# crosstab 01---------------------------------\n",
    "ctb_dpt = pd.crosstab(df[\"Department\"], df[\"Attrition\"])\n",
    "\n",
    "# crosstab 02---------------------------------\n",
    "ctb_dgn = pd.crosstab(df[\"Designation\"], df[\"Attrition\"])\n",
    "\n",
    "fig, ax = plt.subplots(1,2,figsize=(15,5))\n",
    "ctb_dpt.plot(kind=\"bar\", ax=ax[0])\n",
    "ctb_dgn.plot(kind=\"bar\", ax=ax[1])\n",
    "plt.show()"
   ]
  },
  {
   "cell_type": "markdown",
   "id": "fc0da41f",
   "metadata": {},
   "source": [
    "### Treating bad data , outliers and missing values"
   ]
  },
  {
   "cell_type": "code",
   "execution_count": 19,
   "id": "add7020d",
   "metadata": {},
   "outputs": [],
   "source": [
    "# dropping the last record as it has missing values in all variables\n",
    "\n",
    "df = df.drop(5180, axis=0)"
   ]
  },
  {
   "cell_type": "code",
   "execution_count": 20,
   "id": "d563e075",
   "metadata": {
    "scrolled": true
   },
   "outputs": [
    {
     "data": {
      "text/plain": [
       "EmployeeID              0\n",
       "Attrition               0\n",
       "Age                   316\n",
       "TravelProfile           0\n",
       "Department            124\n",
       "HomeToWork            255\n",
       "EducationField          0\n",
       "Gender                 46\n",
       "HourlnWeek            287\n",
       "Involvement             0\n",
       "WorkLifeBalance         0\n",
       "Designation            38\n",
       "JobSatisfaction         0\n",
       "ESOPs                   0\n",
       "NumCompaniesWorked      0\n",
       "OverTime                0\n",
       "SalaryHikelastYear    169\n",
       "WorkExperience        187\n",
       "LastPromotion          70\n",
       "CurrentProfile        311\n",
       "MaritalStatus           0\n",
       "MonthlyIncome          93\n",
       "dtype: int64"
      ]
     },
     "execution_count": 20,
     "metadata": {},
     "output_type": "execute_result"
    }
   ],
   "source": [
    "df.isnull().sum()"
   ]
  },
  {
   "cell_type": "code",
   "execution_count": 21,
   "id": "5bd6df45",
   "metadata": {},
   "outputs": [],
   "source": [
    "# let's seperate the variables again\n",
    "\n",
    "cols = df.isnull().sum()[df.isnull().sum()>0].index\n",
    "\n",
    "miss_num = df[cols].select_dtypes(exclude=[\"object\",\"category\"]).columns\n",
    "miss_cat = df[cols].select_dtypes(include=[\"object\",\"category\"]).columns"
   ]
  },
  {
   "cell_type": "code",
   "execution_count": 22,
   "id": "94cc931f",
   "metadata": {},
   "outputs": [],
   "source": [
    "# replacing nan with median values\n",
    "\n",
    "for i in miss_num:\n",
    "    df[i] = df[i].replace(np.nan, df[i].median())"
   ]
  },
  {
   "cell_type": "code",
   "execution_count": 23,
   "id": "d2ed4898",
   "metadata": {},
   "outputs": [],
   "source": [
    "# replacing nan with mode values\n",
    "\n",
    "for i in miss_cat:\n",
    "    df[i] = df[i].replace(np.nan, df[i].mode()[0])"
   ]
  },
  {
   "cell_type": "code",
   "execution_count": 24,
   "id": "efd14669",
   "metadata": {},
   "outputs": [],
   "source": [
    "# # let's take imputers for categorical and numerical columns seperately\n",
    "\n",
    "# cat_imputer = SimpleImputer(missing_values=np.nan, strategy=\"most_frequent\")\n",
    "# num_imputer = SimpleImputer(missing_values=np.nan, strategy=\"median\")\n",
    "\n",
    "# # imputing the median and mode values\n",
    "\n",
    "# train_df[miss_cat] = cat_imputer.fit_transform(train_df[miss_cat])\n",
    "# train_df[miss_num] = num_imputer.fit_transform(train_df[miss_num])"
   ]
  },
  {
   "cell_type": "code",
   "execution_count": 25,
   "id": "5906d623",
   "metadata": {
    "scrolled": true
   },
   "outputs": [
    {
     "data": {
      "text/plain": [
       "EmployeeID            0\n",
       "Attrition             0\n",
       "Age                   0\n",
       "TravelProfile         0\n",
       "Department            0\n",
       "HomeToWork            0\n",
       "EducationField        0\n",
       "Gender                0\n",
       "HourlnWeek            0\n",
       "Involvement           0\n",
       "WorkLifeBalance       0\n",
       "Designation           0\n",
       "JobSatisfaction       0\n",
       "ESOPs                 0\n",
       "NumCompaniesWorked    0\n",
       "OverTime              0\n",
       "SalaryHikelastYear    0\n",
       "WorkExperience        0\n",
       "LastPromotion         0\n",
       "CurrentProfile        0\n",
       "MaritalStatus         0\n",
       "MonthlyIncome         0\n",
       "dtype: int64"
      ]
     },
     "execution_count": 25,
     "metadata": {},
     "output_type": "execute_result"
    }
   ],
   "source": [
    "df.isnull().sum()"
   ]
  },
  {
   "cell_type": "code",
   "execution_count": 26,
   "id": "dc2ca938",
   "metadata": {},
   "outputs": [],
   "source": [
    "# Finding the upper and lower bound values\n",
    "\n",
    "def finding_range(x):\n",
    "    xs = pd.Series(sorted(x))\n",
    "    Q3 = xs.quantile(q=0.75)\n",
    "    Q1 = xs.quantile(q=0.25)\n",
    "    IQR = Q3-Q1\n",
    "    lower_range = Q1-(1.5*IQR)\n",
    "    upper_range = Q3+(1.5*IQR)\n",
    "    return lower_range, upper_range"
   ]
  },
  {
   "cell_type": "code",
   "execution_count": 27,
   "id": "966af1c9",
   "metadata": {
    "scrolled": true
   },
   "outputs": [
    {
     "name": "stdout",
     "output_type": "stream",
     "text": [
      "Variable: Age\n",
      "\n",
      "Upper Bound Value: 58.5\n",
      "Lower Bound Value: 14.5\n",
      "\n",
      "\n",
      "Variable: HomeToWork\n",
      "\n",
      "Upper Bound Value: 30.0\n",
      "Lower Bound Value: -10.0\n",
      "\n",
      "\n",
      "Variable: HourlnWeek\n",
      "\n",
      "Upper Bound Value: 92.5\n",
      "Lower Bound Value: 24.5\n",
      "\n",
      "\n",
      "Variable: NumCompaniesWorked\n",
      "\n",
      "Upper Bound Value: 11.0\n",
      "Lower Bound Value: -5.0\n",
      "\n",
      "\n",
      "Variable: SalaryHikelastYear\n",
      "\n",
      "Upper Bound Value: 30.5\n",
      "Lower Bound Value: 10.5\n",
      "\n",
      "\n",
      "Variable: WorkExperience\n",
      "\n",
      "Upper Bound Value: 28.5\n",
      "Lower Bound Value: -7.5\n",
      "\n",
      "\n",
      "Variable: LastPromotion\n",
      "\n",
      "Upper Bound Value: 6.0\n",
      "Lower Bound Value: -2.0\n",
      "\n",
      "\n",
      "Variable: CurrentProfile\n",
      "\n",
      "Upper Bound Value: 14.5\n",
      "Lower Bound Value: -5.5\n",
      "\n",
      "\n",
      "Variable: MonthlyIncome\n",
      "\n",
      "Upper Bound Value: 30799.5\n",
      "Lower Bound Value: 10923.5\n",
      "\n",
      "\n"
     ]
    }
   ],
   "source": [
    "outliers = num[1:]\n",
    "\n",
    "for i in outliers:\n",
    "    lr,ur = finding_range(df[i])\n",
    "    print(\"Variable: {}\".format(i))\n",
    "    print(\"\")\n",
    "    print(\"Upper Bound Value: {}\".format(round(ur,2)))\n",
    "    print(\"Lower Bound Value: {}\".format(round(lr,2)))\n",
    "    print(\"\\n\")"
   ]
  },
  {
   "cell_type": "code",
   "execution_count": 28,
   "id": "2b2368ef",
   "metadata": {},
   "outputs": [],
   "source": [
    "# boxplots for replacement reference\n",
    "\n",
    "# col = num[1:]\n",
    "# plt.figure(figsize=(14,6))\n",
    "\n",
    "# for i in range(len(col)):\n",
    "#     plt.subplot(2,5,i+1)\n",
    "#     sns.boxplot(y=df[col[i]])\n",
    "#     plt.tight_layout()"
   ]
  },
  {
   "cell_type": "code",
   "execution_count": 29,
   "id": "61d08a3a",
   "metadata": {},
   "outputs": [],
   "source": [
    "# replacing the outlier values\n",
    "\n",
    "# Age variable------------------------------------------(using corporate logic)\n",
    "df[\"Age\"] = np.where(df[\"Age\"]>60, 60, df[\"Age\"])\n",
    "\n",
    "# HomeToWOrk variable-----------------------------------(using second high distance)\n",
    "df[\"HomeToWork\"] = np.where(df[\"HomeToWork\"]>50, 36, df[\"HomeToWork\"]) \n",
    "\n",
    "# HourlnWeek variable-----------------------------------\n",
    "df[\"HourlnWeek\"] = np.where(df[\"HourlnWeek\"]>92.5, 92.5, df[\"HourlnWeek\"])\n",
    "df[\"HourlnWeek\"] = np.where(df[\"HourlnWeek\"]<24.5, 24.5, df[\"HourlnWeek\"])\n",
    "\n",
    "# NumCompaniesWorked variable---------------------------\n",
    "df[\"NumCompaniesWorked\"] = np.where(df[\"NumCompaniesWorked\"]>11, 11, df[\"NumCompaniesWorked\"])\n",
    "\n",
    "# SalaryHikelastYear variable---------------------------\n",
    "df[\"SalaryHikelastYear\"] = np.where(df[\"SalaryHikelastYear\"]>30.5, 30.5, df[\"SalaryHikelastYear\"])\n",
    "\n",
    "# WorkExperience variable-------------------------------(using real world logic)\n",
    "df[\"WorkExperience\"] = np.where(df[\"WorkExperience\"]>35,35, df[\"WorkExperience\"])\n",
    "\n",
    "# LastPromotion variable--------------------------------(keep as it is)\n",
    "# df[\"LastPromotion\"] = np.where(df[\"LastPromotion\"]>6, 6, df[\"LastPromotion\"])\n",
    "\n",
    "# CurrentProfile variable-------------------------------(keep as it is)\n",
    "# df[\"CurrentProfile\"] = np.where(df[\"CurrentProfile\"]>14.5, 14.5, df[\"CurrentProfile\"])\n",
    "\n",
    "# MonthlyIncome variable--------------------------------\n",
    "df[\"MonthlyIncome\"] = np.where(df[\"MonthlyIncome\"]>40000, 30799.5, df[\"MonthlyIncome\"])\n",
    "df[\"MonthlyIncome\"] = np.where(df[\"MonthlyIncome\"]<10923.5, 10923.5, df[\"MonthlyIncome\"])"
   ]
  },
  {
   "cell_type": "code",
   "execution_count": 30,
   "id": "964524b2",
   "metadata": {},
   "outputs": [
    {
     "data": {
      "image/png": "[encoded data removed]",
      "text/plain": [
       "<Figure size 1008x432 with 9 Axes>"
      ]
     },
     "metadata": {
      "needs_background": "light"
     },
     "output_type": "display_data"
    }
   ],
   "source": [
    "# keeping age and hometowork columns little bit unchanged\n",
    "\n",
    "col = num[1:]\n",
    "plt.figure(figsize=(14,6))\n",
    "\n",
    "for i in range(len(col)):\n",
    "    plt.subplot(2,5,i+1)\n",
    "    sns.boxplot(y=df[col[i]])\n",
    "    plt.tight_layout()"
   ]
  },
  {
   "cell_type": "code",
   "execution_count": 31,
   "id": "8e0838b8",
   "metadata": {},
   "outputs": [],
   "source": [
    "# encoding the categorical variables\n",
    "\n",
    "for i in df.columns:\n",
    "    if df[i].dtype == \"object\":\n",
    "        df[i] = pd.Categorical(df[i]).codes"
   ]
  },
  {
   "cell_type": "code",
   "execution_count": 32,
   "id": "c68d23c9",
   "metadata": {},
   "outputs": [],
   "source": [
    "# changing datatype of few variables (convenient for analysis)\n",
    "\n",
    "df[\"Attrition\"] = df[\"Attrition\"].astype(\"int\")\n",
    "df[\"Involvement\"] = df[\"Involvement\"].astype(\"int\")\n",
    "df[\"WorkLifeBalance\"] = df[\"WorkLifeBalance\"].astype(\"int\")\n",
    "df[\"JobSatisfaction\"] = df[\"JobSatisfaction\"].astype(\"int\")\n",
    "df[\"OverTime\"] = df[\"OverTime\"].astype(\"int\")\n",
    "df[\"ESOPs\"] = df[\"ESOPs\"].astype(\"int\")"
   ]
  },
  {
   "cell_type": "code",
   "execution_count": 33,
   "id": "9877720e",
   "metadata": {},
   "outputs": [],
   "source": [
    "# saving the file \n",
    "\n",
    "# df.to_csv(\"clean_train_data.csv\")"
   ]
  },
  {
   "cell_type": "markdown",
   "id": "0f93206b",
   "metadata": {},
   "source": [
    "### SMOTE (Synthetic Minority Oversampling Technique)"
   ]
  },
  {
   "cell_type": "code",
   "execution_count": 34,
   "id": "36c1a753",
   "metadata": {},
   "outputs": [],
   "source": [
    "from imblearn.over_sampling import SMOTE"
   ]
  },
  {
   "cell_type": "code",
   "execution_count": 35,
   "id": "596b2642",
   "metadata": {},
   "outputs": [],
   "source": [
    "# let's bake some artificial points\n",
    "\n",
    "smote_sampler = SMOTE()\n",
    "\n",
    "x = df.drop([\"EmployeeID\",\"Attrition\"], axis=1)\n",
    "y = df[\"Attrition\"]\n",
    "\n",
    "x_new, y_new = smote_sampler.fit_resample(x,y)"
   ]
  },
  {
   "cell_type": "code",
   "execution_count": 36,
   "id": "27b57c12",
   "metadata": {},
   "outputs": [
    {
     "data": {
      "text/plain": [
       "0    3735\n",
       "1    3735\n",
       "Name: Attrition, dtype: int64"
      ]
     },
     "execution_count": 36,
     "metadata": {},
     "output_type": "execute_result"
    }
   ],
   "source": [
    "# checking the new value\n",
    "\n",
    "y_new.value_counts()"
   ]
  },
  {
   "cell_type": "code",
   "execution_count": 46,
   "id": "789a00b0",
   "metadata": {},
   "outputs": [],
   "source": [
    "# saving the oversampled data as smote_train_data\n",
    "\n",
    "smote_data = pd.concat([x_new,y_new], axis=1)\n",
    "smote_data.to_csv(\"smote_train_data.csv\")"
   ]
  },
  {
   "cell_type": "code",
   "execution_count": 45,
   "id": "3bb743a8",
   "metadata": {},
   "outputs": [
    {
     "name": "stdout",
     "output_type": "stream",
     "text": [
      "<class 'pandas.core.frame.DataFrame'>\n",
      "RangeIndex: 7470 entries, 0 to 7469\n",
      "Data columns (total 21 columns):\n",
      " #   Column              Non-Null Count  Dtype  \n",
      "---  ------              --------------  -----  \n",
      " 0   Age                 7470 non-null   float64\n",
      " 1   TravelProfile       7470 non-null   int8   \n",
      " 2   Department          7470 non-null   int8   \n",
      " 3   HomeToWork          7470 non-null   float64\n",
      " 4   EducationField      7470 non-null   int8   \n",
      " 5   Gender              7470 non-null   int8   \n",
      " 6   HourlnWeek          7470 non-null   float64\n",
      " 7   Involvement         7470 non-null   int32  \n",
      " 8   WorkLifeBalance     7470 non-null   int32  \n",
      " 9   Designation         7470 non-null   int8   \n",
      " 10  JobSatisfaction     7470 non-null   int32  \n",
      " 11  ESOPs               7470 non-null   int32  \n",
      " 12  NumCompaniesWorked  7470 non-null   float64\n",
      " 13  OverTime            7470 non-null   int32  \n",
      " 14  SalaryHikelastYear  7470 non-null   float64\n",
      " 15  WorkExperience      7470 non-null   float64\n",
      " 16  LastPromotion       7470 non-null   float64\n",
      " 17  CurrentProfile      7470 non-null   float64\n",
      " 18  MaritalStatus       7470 non-null   int8   \n",
      " 19  MonthlyIncome       7470 non-null   float64\n",
      " 20  Attrition           7470 non-null   int32  \n",
      "dtypes: float64(9), int32(6), int8(6)\n",
      "memory usage: 744.2 KB\n"
     ]
    }
   ],
   "source": [
    "smote_data.info()"
   ]
  }
 ],
 "metadata": {
  "kernelspec": {
   "display_name": "Python 3 (ipykernel)",
   "language": "python",
   "name": "python3"
  },
  "language_info": {
   "codemirror_mode": {
    "name": "ipython",
    "version": 3
   },
   "file_extension": ".py",
   "mimetype": "text/x-python",
   "name": "python",
   "nbconvert_exporter": "python",
   "pygments_lexer": "ipython3",
   "version": "3.8.12"
  }
 },
 "nbformat": 4,
 "nbformat_minor": 5
}
